{
 "cells": [
  {
   "cell_type": "markdown",
   "metadata": {},
   "source": [
    "# Final Project (Team3)\n",
    "\n",
    "This poject aims to "
   ]
  },
  {
   "cell_type": "markdown",
   "metadata": {},
   "source": [
    "## Part Ⅰ. [WEB] Download Raw data \n",
    "  - Crime data (CSV, Shp), Census and DC Properties (shp) \n",
    "  - Download Source: Data & Code Book"
   ]
  },
  {
   "cell_type": "markdown",
   "metadata": {},
   "source": [
    "## Part Ⅱ. [ArcPro] Make Initial GDB- 'MyProject.gdb'\n",
    "  - ArcPro: (GDB) Batch Import (or add feature) shp files (5 years Crime, Properties)\n",
    "  - ArcPro: Show Featrues in the Map, Point Symbology, etc \n",
    "  - Arcpy: SET GDB Environment, Make KDE, etc <br>"
   ]
  },
  {
   "cell_type": "markdown",
   "metadata": {},
   "source": [
    "Environment \n",
    "`arcpy.env.workspace` was set to the path for `MyProject.gdb`."
   ]
  },
  {
   "cell_type": "code",
   "execution_count": 1,
   "metadata": {},
   "outputs": [
    {
     "name": "stdout",
     "output_type": "stream",
     "text": [
      "\\\\apporto.com\\dfs\\GWU\\Users\\nanminwoo_gwu\\Desktop\\IGSUP_data_student\\IGSUP_data_student\\@Final Project\\MyProject (GDB,ArcPy)\n"
     ]
    }
   ],
   "source": [
    "import os\n",
    "print(os.getcwd())"
   ]
  },
  {
   "cell_type": "code",
   "execution_count": 2,
   "metadata": {},
   "outputs": [],
   "source": [
    "import arcpy"
   ]
  },
  {
   "cell_type": "code",
   "execution_count": 54,
   "metadata": {},
   "outputs": [],
   "source": [
    "path = r'.\\MyProject.gdb'\n",
    "arcpy.env.workspace = (path)\n",
    "arcpy.overwriteOutput = True"
   ]
  },
  {
   "cell_type": "code",
   "execution_count": 5,
   "metadata": {},
   "outputs": [
    {
     "name": "stdout",
     "output_type": "stream",
     "text": [
      "['Crime_Incidents_in_2023_kml_point', 'Crime_Incidents_in_2023_shp', 'Census_Economic_shp', 'Census_Economic_kml_Polygons', 'Bank_Locations', 'Farmers_Market_Locations', 'Gas_Stations', 'Grocery_Store_Locations', 'Hospitals', 'Hotels', 'Liquor_Licenses', 'Metro_Station_Entrances_in_DC', 'National_Parks', 'Roads', 'Shopping_Centers', 'Sidewalk_Cafe', 'Crime_Incidents_in_2022', 'Crime_Incidents_in_2021', 'Crime_Incidents_in_2020', 'Crime_Incidents_in_2019', 'DC_Public_Schools', 'Crime_Incidents_19_23_Merged']\n"
     ]
    }
   ],
   "source": [
    "fc_list = arcpy.ListFeatureClasses()\n",
    "print(fc_list)"
   ]
  },
  {
   "cell_type": "markdown",
   "metadata": {},
   "source": [
    "### 1. Crime_Incidents_in_2023"
   ]
  },
  {
   "cell_type": "markdown",
   "metadata": {},
   "source": [
    "#### Basic Check: descrie, field, row counts, samples"
   ]
  },
  {
   "cell_type": "code",
   "execution_count": 8,
   "metadata": {},
   "outputs": [
    {
     "data": {
      "text/html": [
       "<style>table td#td0  {font-weight: bold}</style><table class=\"notebook\"><colgroup><col style=\"width:45%\"></col><col style=\"width:55%\"></col></colgroup><tr><td id = \"td0\" title=\"catalogPath\">catalogPath</td><td title=\"\\\\apporto.com\\dfs\\GWU\\Users\\nanminwoo_gwu\\Desktop\\IGSUP_data_student\\IGSUP_data_student\\Final Project\\MyProject\\MyProject.gdb\\Crime_Incidents_in_2023_shp\">\\\\apporto.com\\dfs\\GWU\\Users\\nanminwoo_gwu\\Desktop\\IGSUP_data_student\\IGSUP_data_student\\Final Project\\MyProject\\MyProject.gdb\\Crime_Incidents_in_2023_shp</td></tr><tr><td id = \"td0\" title=\"dataType\">dataType</td><td title=\"FeatureClass\">FeatureClass</td></tr><tr><td id = \"td0\" title=\"shapeType\">shapeType</td><td title=\"Point\">Point</td></tr><tr><td id = \"td0\" title=\"hasM\">hasM</td><td title=\"False\">False</td></tr><tr><td id = \"td0\" title=\"hasZ\">hasZ</td><td title=\"False\">False</td></tr></table><div class=\"title\"><i class=\"chevron-open\" onClick=\"event.preventDefault();document.getElementById('35C2D9D2-F198-477A-B726-21085A88AB0D').style.display =   document.getElementById('35C2D9D2-F198-477A-B726-21085A88AB0D').style.display == 'none' ? 'block' : 'none';this.classList.toggle('chevron-closed');\"></i>fields</div><div id=\"35C2D9D2-F198-477A-B726-21085A88AB0D\"><style>table td#td0  {font-weight: bold}</style><table class=\"notebook\"><colgroup><col style=\"width:45%\"></col><col style=\"width:55%\"></col></colgroup><tr><td id = \"td0\" title=\"OBJECTID_1\">OBJECTID_1</td><td title=\"OID\">OID</td></tr><tr><td id = \"td0\" title=\"Shape\">Shape</td><td title=\"Geometry\">Geometry</td></tr><tr><td id = \"td0\" title=\"CCN\">CCN</td><td title=\"String\">String</td></tr><tr><td id = \"td0\" title=\"REPORT_DAT\">REPORT_DAT</td><td title=\"Date\">Date</td></tr><tr><td id = \"td0\" title=\"SHIFT\">SHIFT</td><td title=\"String\">String</td></tr><tr><td id = \"td0\" title=\"METHOD\">METHOD</td><td title=\"String\">String</td></tr><tr><td id = \"td0\" title=\"OFFENSE\">OFFENSE</td><td title=\"String\">String</td></tr><tr><td id = \"td0\" title=\"BLOCK\">BLOCK</td><td title=\"String\">String</td></tr><tr><td id = \"td0\" title=\"XBLOCK\">XBLOCK</td><td title=\"Double\">Double</td></tr><tr><td id = \"td0\" title=\"YBLOCK\">YBLOCK</td><td title=\"Double\">Double</td></tr><tr><td id = \"td0\" title=\"WARD\">WARD</td><td title=\"String\">String</td></tr><tr><td id = \"td0\" title=\"ANC\">ANC</td><td title=\"String\">String</td></tr><tr><td id = \"td0\" title=\"DISTRICT\">DISTRICT</td><td title=\"String\">String</td></tr><tr><td id = \"td0\" title=\"PSA\">PSA</td><td title=\"String\">String</td></tr><tr><td id = \"td0\" title=\"NEIGHBORHO\">NEIGHBORHO</td><td title=\"String\">String</td></tr><tr><td id = \"td0\" title=\"BLOCK_GROU\">BLOCK_GROU</td><td title=\"String\">String</td></tr><tr><td id = \"td0\" title=\"CENSUS_TRA\">CENSUS_TRA</td><td title=\"String\">String</td></tr><tr><td id = \"td0\" title=\"VOTING_PRE\">VOTING_PRE</td><td title=\"String\">String</td></tr><tr><td id = \"td0\" title=\"LATITUDE\">LATITUDE</td><td title=\"Double\">Double</td></tr><tr><td id = \"td0\" title=\"LONGITUDE\">LONGITUDE</td><td title=\"Double\">Double</td></tr><tr><td id = \"td0\" title=\"BID\">BID</td><td title=\"String\">String</td></tr><tr><td id = \"td0\" title=\"START_DATE\">START_DATE</td><td title=\"Date\">Date</td></tr><tr><td id = \"td0\" title=\"END_DATE\">END_DATE</td><td title=\"Date\">Date</td></tr><tr><td id = \"td0\" title=\"OBJECTID\">OBJECTID</td><td title=\"Integer\">Integer</td></tr><tr><td id = \"td0\" title=\"OCTO_RECOR\">OCTO_RECOR</td><td title=\"String\">String</td></tr></table></div><div class=\"title\"><i class=\"chevron-open\" onClick=\"event.preventDefault();document.getElementById('FB9647CC-0DF8-466A-A48B-1EAC1E030D0C').style.display =   document.getElementById('FB9647CC-0DF8-466A-A48B-1EAC1E030D0C').style.display == 'none' ? 'block' : 'none';this.classList.toggle('chevron-closed');\"></i>spatialReference</div><div id=\"FB9647CC-0DF8-466A-A48B-1EAC1E030D0C\"><style>table td#td0  {font-weight: bold}</style><table class=\"notebook\"><colgroup><col style=\"width:45%\"></col><col style=\"width:55%\"></col></colgroup><tr><td id = \"td0\" title=\"name (Geographic Coordinate System)\">name (Geographic Coordinate System)</td><td title=\"GCS_WGS_1984\">GCS_WGS_1984</td></tr><tr><td id = \"td0\" title=\"factoryCode (WKID)\">factoryCode (WKID)</td><td title=\"4326\">4326</td></tr><tr><td id = \"td0\" title=\"angularUnitName (Angular Unit)\">angularUnitName (Angular Unit)</td><td title=\"Degree\">Degree</td></tr><tr><td id = \"td0\" title=\"datumName (Datum)\">datumName (Datum)</td><td title=\"D_WGS_1984\">D_WGS_1984</td></tr></table></div><p class=\"gpresult\">For additional help,     see <a href=\"#\" onclick=\"chrome.webview.postMessage('describe_helpid_120003794');return false;\">arcpy.Describe</a></p><br>"
      ],
      "text/plain": [
       "<geoprocessing describe data object at 0x2519f334710>"
      ]
     },
     "execution_count": 8,
     "metadata": {},
     "output_type": "execute_result"
    }
   ],
   "source": [
    "desc = arcpy.Describe(\"Crime_Incidents_in_2023_shp\")\n",
    "#desc = arcpy.Describe(\"Crime_Incidents_in_2023_kml_point\")\n",
    "desc"
   ]
  },
  {
   "cell_type": "code",
   "execution_count": 9,
   "metadata": {},
   "outputs": [
    {
     "name": "stdout",
     "output_type": "stream",
     "text": [
      "OBJECTID_1 : OID\n",
      "Shape : Geometry\n",
      "CCN : String\n",
      "REPORT_DAT : Date\n",
      "SHIFT : String\n",
      "METHOD : String\n",
      "OFFENSE : String\n",
      "BLOCK : String\n",
      "XBLOCK : Double\n",
      "YBLOCK : Double\n",
      "WARD : String\n",
      "ANC : String\n",
      "DISTRICT : String\n",
      "PSA : String\n",
      "NEIGHBORHO : String\n",
      "BLOCK_GROU : String\n",
      "CENSUS_TRA : String\n",
      "VOTING_PRE : String\n",
      "LATITUDE : Double\n",
      "LONGITUDE : Double\n",
      "BID : String\n",
      "START_DATE : Date\n",
      "END_DATE : Date\n",
      "OBJECTID : Integer\n",
      "OCTO_RECOR : String\n"
     ]
    }
   ],
   "source": [
    "for fld in desc.fields:\n",
    "    #    print(\"\\t\" + fld.name)\n",
    "    print(f\"{fld.name} : {fld.Type}\")\n",
    "\n",
    "# field_list = arcpy.ListFields(\"Crime_Incidents_in_2023_shp\")\n",
    "# field_list"
   ]
  },
  {
   "cell_type": "code",
   "execution_count": 10,
   "metadata": {},
   "outputs": [
    {
     "name": "stdout",
     "output_type": "stream",
     "text": [
      "Name: Crime incidents(2023), feature count: 29089\n"
     ]
    }
   ],
   "source": [
    "# Numer of record: GetCount\n",
    "count = arcpy.GetCount_management('Crime_Incidents_in_2023_shp')\n",
    "print(f\"Name: Crime incidents(2023), feature count: {count}\")"
   ]
  },
  {
   "cell_type": "markdown",
   "metadata": {},
   "source": [
    "Time stamp variales are truncated. So, they will be manually added after converting into Clearance_time"
   ]
  },
  {
   "cell_type": "code",
   "execution_count": 14,
   "metadata": {},
   "outputs": [
    {
     "name": "stdout",
     "output_type": "stream",
     "text": [
      "START: 2023-09-21 00:00:00\n",
      "END: 2023-09-21 00:00:00\n",
      "START: 2023-09-21 00:00:00\n",
      "END: 2023-09-21 00:00:00\n",
      "START: 2023-09-21 00:00:00\n",
      "END: 2023-09-21 00:00:00\n",
      "START: 2023-09-21 00:00:00\n",
      "END: 2023-09-21 00:00:00\n",
      "START: 2023-09-21 00:00:00\n",
      "END: 2023-09-21 00:00:00\n"
     ]
    }
   ],
   "source": [
    "# Check the sample\n",
    "from arcpy.da import *\n",
    "with arcpy.da.SearchCursor(\"Crime_Incidents_in_2023_shp\",(\"START_DATE\", \"END_DATE\")) as cursor:\n",
    "    i= 0\n",
    "    while i < 5:\n",
    "        for val in cursor: \n",
    "            print(f'START: {val[0]}')\n",
    "            print(f'END: {val[1]}')\n",
    "            i += 1         "
   ]
  },
  {
   "cell_type": "markdown",
   "metadata": {},
   "source": [
    "#### 2. Create KDE feature"
   ]
  },
  {
   "cell_type": "code",
   "execution_count": 26,
   "metadata": {},
   "outputs": [],
   "source": [
    "# Method 1 : \n",
    "from arcpy.sa import *\n",
    "arcpy.CheckOutExtension(\"Spatial\")\n",
    "arcpy.env.overwriteOutput=True\n",
    "with arcpy.EnvManager( extent=arcpy.Extent(-77.112318,38.814667,-76.910140,38.993573)):\n",
    "    outKernelDensity2 = KernelDensity(in_features='Crime_Incidents_in_2023_shp', \n",
    "                                     population_field='',\n",
    "                                     cell_size=0.005,\n",
    "                                    search_radius=0.01)  #\"PLANAR\"\n",
    "    outKernelDensity2.save(\"Crime_Incidents_in_2023_KDE\")"
   ]
  },
  {
   "cell_type": "code",
   "execution_count": 27,
   "metadata": {},
   "outputs": [],
   "source": [
    "# Method 2 : Weird\n",
    "with arcpy.EnvManager( extent=arcpy.Extent(-77.112318,38.814667,-76.910140,38.993573)):\n",
    "    outKernelDensity2 = KernelDensity(in_features='Crime_Incidents_in_2023_shp', \n",
    "                                     population_field='Shape',\n",
    "                                     cell_size=0.005,\n",
    "                                    search_radius=0.01)  #\"PLANAR\"\n",
    "    outKernelDensity2.save(\"Crime_Incidents_in_2023_KDE_2\")"
   ]
  },
  {
   "cell_type": "code",
   "execution_count": 28,
   "metadata": {},
   "outputs": [],
   "source": [
    "# Method 3 : Weird\n",
    "with arcpy.EnvManager( extent=arcpy.Extent(-77.112318,38.814667,-76.910140,38.993573)):\n",
    "    outKernelDensity3 = KernelDensity(in_features='Crime_Incidents_in_2023_shp', \n",
    "                                     population_field='',\n",
    "                                     cell_size=0.005,\n",
    "                                    search_radius=0.01\n",
    "                                    ,method =\"GEODESIC\")  #\n",
    "    outKernelDensity3.save(\"Crime_Incidents_in_2023_KDE_3\")"
   ]
  },
  {
   "cell_type": "markdown",
   "metadata": {},
   "source": [
    "#### 3. Create Property features: Buffer/Distance(TBD)"
   ]
  },
  {
   "cell_type": "code",
   "execution_count": null,
   "metadata": {},
   "outputs": [],
   "source": [
    "# # Create a buffer around the crime incidents\n",
    "# arcpy.Buffer_analysis(\"Crime_incident\", \"Crime_Buffer\", \"100 Feet\")\n",
    "\n",
    "# # Intersect the buffer with the properties\n",
    "# arcpy.Intersect_analysis([\"Crime_Buffer\", \"Properties\"], \"Buffer_Properties\")\n",
    "\n",
    "# # Calculate the number of properties within each buffer\n",
    "# arcpy.Statistics_analysis(\"Buffer_Properties\", \"Buffer_Eat_drinking\", [[\"OBJECTID\", \"COUNT\"]])\n"
   ]
  },
  {
   "cell_type": "code",
   "execution_count": null,
   "metadata": {},
   "outputs": [],
   "source": []
  },
  {
   "cell_type": "markdown",
   "metadata": {},
   "source": [
    "#### 4. Select attriute/location - Visualize Crime Patterns "
   ]
  },
  {
   "cell_type": "code",
   "execution_count": null,
   "metadata": {},
   "outputs": [],
   "source": [
    "arcpy.MakeFeatureLayer_management(in_features=\"\", out_layer=\"\")"
   ]
  },
  {
   "cell_type": "code",
   "execution_count": null,
   "metadata": {},
   "outputs": [],
   "source": [
    "SQLExp = \n",
    "arcpy.management.SelectLayerByAttribute(\n",
    "    in_layer_or_view=\"\", selection_type=\"NEW_SELECTION\", where_clause=SQLExp)"
   ]
  },
  {
   "cell_type": "markdown",
   "metadata": {},
   "source": [
    "#### 5. Create Symbols- Numeric represent of Census variale on the Map (TBD)"
   ]
  },
  {
   "cell_type": "code",
   "execution_count": null,
   "metadata": {},
   "outputs": [],
   "source": [
    "# # Join the economic characteristics to the census tracts\n",
    "# arcpy.JoinField_management(\"Census_Tracts\", \"TRACT_ID\", \"Economic_Characteristics\", \"TRACT_ID\", \"DP03_0009PE\")\n",
    "\n",
    "# # Classify the unemployment rate\n",
    "# arcpy.ApplySymbologyFromLayer_management(\"Census_Tracts\", \"Unemployment_Symbology.lyrx\")\n"
   ]
  },
  {
   "cell_type": "markdown",
   "metadata": {},
   "source": [
    "### 2. Census_Economic (2020 version)"
   ]
  },
  {
   "cell_type": "code",
   "execution_count": null,
   "metadata": {},
   "outputs": [],
   "source": [
    "desc2 = arcpy.Describe(\"Census_Economic_shp\")\n",
    "desc2 "
   ]
  },
  {
   "cell_type": "code",
   "execution_count": 41,
   "metadata": {},
   "outputs": [
    {
     "name": "stdout",
     "output_type": "stream",
     "text": [
      "OBJECTID_1 : OID\n",
      "Shape : Geometry\n",
      "OBJECTID : SmallInteger\n",
      "STATEFP : String\n",
      "COUNTYFP : String\n",
      "TRACTCE : String\n",
      "GEOID : String\n",
      "NAME : String\n",
      "ALAND : Integer\n",
      "AWATER : Integer\n",
      "INTPTLAT : String\n",
      "INTPTLON : String\n",
      "DP03_0001E : SmallInteger\n",
      "DP03_0002E : SmallInteger\n",
      "DP03_0003E : SmallInteger\n",
      "DP03_0004E : SmallInteger\n",
      "DP03_0005E : SmallInteger\n",
      "DP03_0006E : SmallInteger\n",
      "DP03_0007E : SmallInteger\n",
      "DP03_0008E : SmallInteger\n",
      "DP03_0009P : Double\n",
      "DP03_0010E : SmallInteger\n",
      "DP03_0011E : SmallInteger\n",
      "DP03_0012E : SmallInteger\n",
      "DP03_0013E : SmallInteger\n",
      "DP03_0014E : SmallInteger\n",
      "DP03_0015E : SmallInteger\n",
      "DP03_0016E : SmallInteger\n",
      "DP03_0017E : SmallInteger\n",
      "DP03_0018E : SmallInteger\n",
      "DP03_0019E : SmallInteger\n",
      "DP03_0020E : SmallInteger\n",
      "DP03_0021E : SmallInteger\n",
      "DP03_0022E : SmallInteger\n",
      "DP03_0023E : SmallInteger\n",
      "DP03_0024E : SmallInteger\n",
      "DP03_0025E : Double\n",
      "DP03_0026E : SmallInteger\n",
      "DP03_0027E : SmallInteger\n",
      "DP03_0028E : SmallInteger\n",
      "DP03_0029E : SmallInteger\n",
      "DP03_0030E : SmallInteger\n",
      "DP03_0031E : SmallInteger\n",
      "DP03_0032E : SmallInteger\n",
      "DP03_0033E : SmallInteger\n",
      "DP03_0034E : SmallInteger\n",
      "DP03_0035E : SmallInteger\n",
      "DP03_0036E : SmallInteger\n",
      "DP03_0037E : SmallInteger\n",
      "DP03_0038E : SmallInteger\n",
      "DP03_0039E : SmallInteger\n",
      "DP03_0040E : SmallInteger\n",
      "DP03_0041E : SmallInteger\n",
      "DP03_0042E : SmallInteger\n",
      "DP03_0043E : SmallInteger\n",
      "DP03_0044E : SmallInteger\n",
      "DP03_0045E : SmallInteger\n",
      "DP03_0046E : SmallInteger\n",
      "DP03_0047E : SmallInteger\n",
      "DP03_0048E : SmallInteger\n",
      "DP03_0049E : SmallInteger\n",
      "DP03_0050E : SmallInteger\n",
      "DP03_0051E : SmallInteger\n",
      "DP03_0052E : SmallInteger\n",
      "DP03_0053E : SmallInteger\n",
      "DP03_0054E : SmallInteger\n",
      "DP03_0055E : SmallInteger\n",
      "DP03_0056E : SmallInteger\n",
      "DP03_0057E : SmallInteger\n",
      "DP03_0058E : SmallInteger\n",
      "DP03_0059E : SmallInteger\n",
      "DP03_0060E : SmallInteger\n",
      "DP03_0061E : SmallInteger\n",
      "DP03_0062E : Integer\n",
      "DP03_0063E : Integer\n",
      "DP03_0064E : SmallInteger\n",
      "DP03_0065E : Integer\n",
      "DP03_0066E : SmallInteger\n",
      "DP03_0067E : Integer\n",
      "DP03_0068E : SmallInteger\n",
      "DP03_0069E : Integer\n",
      "DP03_0070E : SmallInteger\n",
      "DP03_0071E : Integer\n",
      "DP03_0072E : SmallInteger\n",
      "DP03_0073E : String\n",
      "DP03_0074E : SmallInteger\n",
      "DP03_0075E : SmallInteger\n",
      "DP03_0076E : SmallInteger\n",
      "DP03_0077E : SmallInteger\n",
      "DP03_0078E : SmallInteger\n",
      "DP03_0079E : SmallInteger\n",
      "DP03_0080E : SmallInteger\n",
      "DP03_0081E : SmallInteger\n",
      "DP03_0082E : SmallInteger\n",
      "DP03_0083E : SmallInteger\n",
      "DP03_0084E : SmallInteger\n",
      "DP03_0085E : SmallInteger\n",
      "DP03_0086E : Integer\n",
      "DP03_0087E : Integer\n",
      "DP03_0088E : Integer\n",
      "DP03_0089E : SmallInteger\n",
      "DP03_0090E : Integer\n",
      "DP03_0091E : Integer\n",
      "DP03_0092E : Integer\n",
      "DP03_0093E : Integer\n",
      "DP03_0094E : Integer\n",
      "DP03_0095E : SmallInteger\n",
      "DP03_0096E : SmallInteger\n",
      "DP03_0097E : SmallInteger\n",
      "DP03_0098E : SmallInteger\n",
      "DP03_0099E : SmallInteger\n",
      "DP03_0100E : SmallInteger\n",
      "DP03_0101E : SmallInteger\n",
      "DP03_0102E : SmallInteger\n",
      "DP03_0103E : SmallInteger\n",
      "DP03_0104E : SmallInteger\n",
      "DP03_0105E : SmallInteger\n",
      "DP03_0106E : SmallInteger\n",
      "DP03_0107E : SmallInteger\n",
      "DP03_0108E : SmallInteger\n",
      "DP03_0109E : SmallInteger\n",
      "DP03_0110E : SmallInteger\n",
      "DP03_0111E : SmallInteger\n",
      "DP03_0112E : SmallInteger\n",
      "DP03_0113E : SmallInteger\n",
      "DP03_0114E : SmallInteger\n",
      "DP03_0115E : SmallInteger\n",
      "DP03_0116E : SmallInteger\n",
      "DP03_0117E : SmallInteger\n",
      "DP03_0118E : SmallInteger\n",
      "DP03_0119P : Double\n",
      "DP03_0120P : Double\n",
      "DP03_0121P : Double\n",
      "DP03_0122P : Double\n",
      "DP03_0123P : Double\n",
      "DP03_0124P : Double\n",
      "DP03_0127P : Double\n",
      "COMPLETE_N : String\n",
      "DP03_0125P : Double\n",
      "DP03_0126P : Double\n",
      "DP03_0128P : Double\n",
      "DP03_0129P : Double\n",
      "DP03_0130P : Double\n",
      "DP03_0131P : Double\n",
      "DP03_0132P : Double\n",
      "DP03_0133P : Double\n",
      "DP03_0134P : Double\n",
      "DP03_0135P : Double\n",
      "DP03_0136P : Double\n",
      "DP03_0137P : Double\n",
      "GIS_ID : String\n",
      "GLOBALID : String\n",
      "SHAPEAREA : SmallInteger\n",
      "SHAPELEN : SmallInteger\n",
      "Shape_Length : Double\n",
      "Shape_Area : Double\n"
     ]
    }
   ],
   "source": [
    "for fld in desc2.fields:\n",
    "    #    print(\"\\t\" + fld.name)\n",
    "    print(f\"{fld.name} : {fld.Type}\")"
   ]
  },
  {
   "cell_type": "code",
   "execution_count": 42,
   "metadata": {},
   "outputs": [
    {
     "name": "stdout",
     "output_type": "stream",
     "text": [
      "Name: Census_Econmic_variales, feature count: 206\n"
     ]
    }
   ],
   "source": [
    "# Number of record: GetCount : 206 Census Track Areas\n",
    "count = arcpy.GetCount_management('Census_Economic_shp')\n",
    "print(f\"Name: Census_Econmic_variales, feature count: {count}\")"
   ]
  },
  {
   "cell_type": "code",
   "execution_count": 45,
   "metadata": {},
   "outputs": [
    {
     "name": "stdout",
     "output_type": "stream",
     "text": [
      "Unemployment(%): 7.3\n",
      "Poverty(%): 0.5\n",
      "Unemployment(%): 7.3\n",
      "Poverty(%): 0.5\n",
      "Unemployment(%): 7.3\n",
      "Poverty(%): 0.5\n",
      "Unemployment(%): 7.3\n",
      "Poverty(%): 0.5\n",
      "Unemployment(%): 7.3\n",
      "Poverty(%): 0.5\n"
     ]
    }
   ],
   "source": [
    "# Check the sample: DP03_0009PE (truncated:DP03_0009P): unemployment_rate, DP03_0119PE(DP03_0119P): pct_all_families_below_poverty\n",
    "from arcpy.da import *\n",
    "with arcpy.da.SearchCursor(\"Census_Economic_shp\",(\"DP03_0009P\", \"DP03_0119P\")) as cursor:\n",
    "    i= 0\n",
    "    for val in cursor: \n",
    "            while i < 5:\n",
    "                print(f'Unemployment(%): {val[0]}')\n",
    "                print(f'Poverty(%): {val[1]}')\n",
    "                i += 1   \n"
   ]
  },
  {
   "cell_type": "code",
   "execution_count": null,
   "metadata": {},
   "outputs": [],
   "source": []
  },
  {
   "cell_type": "markdown",
   "metadata": {},
   "source": [
    "## Part Ⅲ. Make additional features (Work on Raw Crime CSVs)"
   ]
  },
  {
   "cell_type": "code",
   "execution_count": 18,
   "metadata": {},
   "outputs": [],
   "source": [
    "path = r'\\\\apporto.com\\dfs\\GWU\\Users\\nanminwoo_gwu\\Desktop\\IGSUP_data_student\\IGSUP_data_student\\@Final Project\\Data_update\\Crime Raw data(openDC)_CSV'"
   ]
  },
  {
   "cell_type": "code",
   "execution_count": 19,
   "metadata": {},
   "outputs": [
    {
     "name": "stdout",
     "output_type": "stream",
     "text": [
      "Shape of Crime_Incidents_in_2019: (33950, 26)\n",
      "Shape of Crime_Incidents_in_2020: (27917, 26)\n",
      "Shape of Crime_Incidents_in_2021: (28348, 26)\n",
      "Shape of Crime_Incidents_in_2022: (27211, 26)\n",
      "Shape of Crime_Incidents_in_2023: (26022, 26)\n"
     ]
    }
   ],
   "source": [
    "# Read dataset from 2019~2023\n",
    "import pandas as pd\n",
    "for filename in os.listdir(path):\n",
    "    if filename.endswith('.csv'):\n",
    "        filepath = os.path.join(path, filename)\n",
    "        df_name = filename.split('.')[0]\n",
    "        year = df_name[-4:]\n",
    "        globals()[df_name]= pd.read_csv(filepath)\n",
    "        globals()[df_name]['Year'] = year # Add year column to distinguish\n",
    "        print(f'Shape of {df_name}: {globals()[df_name].shape}')"
   ]
  },
  {
   "cell_type": "code",
   "execution_count": 20,
   "metadata": {},
   "outputs": [
    {
     "data": {
      "text/plain": [
       "(143448, 26)"
      ]
     },
     "execution_count": 20,
     "metadata": {},
     "output_type": "execute_result"
    }
   ],
   "source": [
    "# Merge 5 years\n",
    "# List of dataframes\n",
    "dfs = [Crime_Incidents_in_2019, Crime_Incidents_in_2020, Crime_Incidents_in_2021, Crime_Incidents_in_2022, Crime_Incidents_in_2023]\n",
    "Crime_Incidents_19_23 = pd.concat(dfs, ignore_index=True)\n",
    "Crime_Incidents_19_23.shape"
   ]
  },
  {
   "cell_type": "code",
   "execution_count": 21,
   "metadata": {},
   "outputs": [
    {
     "name": "stdout",
     "output_type": "stream",
     "text": [
      "143448 143384\n"
     ]
    }
   ],
   "source": [
    "# Verify PK of dataset\n",
    "pk = ['CCN']  #PK is OBJECTID but it change whenever download it \n",
    "temp = Crime_Incidents_19_23.drop_duplicates(subset=pk)\n",
    "print(Crime_Incidents_19_23.shape[0], temp.shape[0])\n"
   ]
  },
  {
   "cell_type": "code",
   "execution_count": 22,
   "metadata": {},
   "outputs": [],
   "source": [
    "import copy\n",
    "df = copy.deepcopy(temp) # will use CCN dup dropped "
   ]
  },
  {
   "cell_type": "code",
   "execution_count": 23,
   "metadata": {},
   "outputs": [],
   "source": [
    "# 1. Crime_Type:  4 types (Theft, Other_Property_Crimes )\n",
    "df['Crime_Type'] = df['OFFENSE']\n",
    "df['Crime_Type'] = df['Crime_Type'].replace(['THEFT F/AUTO', 'THEFT/OTHER'], 'Theft')\n",
    "df['Crime_Type'] = df['Crime_Type'].replace(['Arson', 'Burglary', 'Motor Vehicle Theft'], 'Other_Property_Crimes')\n",
    "df['Crime_Type'] = df['Crime_Type'].replace(['Robbery'], 'Robbery')\n",
    "df['Crime_Type'] = df['Crime_Type'].replace(['Assault with a Dangerous Weapon', 'Homicide', 'Sex Abuse'], 'Other_Violent_Crimes')\n",
    "\n",
    "# 2. Clear_Time: END_DATE - START_DATE(Minutes), Time to clear a crime incident\n",
    "df['START_DATE'] = pd.to_datetime(df['START_DATE'])\n",
    "df['END_DATE'] = pd.to_datetime(df['END_DATE'])\n",
    "df['Clear_Time'] = round((df['END_DATE'] - df['START_DATE']).dt.total_seconds() / 60,1)\n",
    "\n",
    "# 3. Pandemic Phase: (Before: 2019.1~2020.2, Lockdown: 2020.3.~ 2021.7, Post: 2021.8~2323.12) \n",
    "df['REPORT_DAT'] = pd.to_datetime(df['REPORT_DAT'])\n",
    "df['Pandemic_Phase'] = pd.cut(df['REPORT_DAT'],\n",
    "                               bins=[pd.Timestamp('2019-01-01'), pd.Timestamp('2020-03-01')\n",
    "                                     , pd.Timestamp('2021-08-01'), pd.Timestamp('2024-01-01')],\n",
    "                               labels=['Before', 'Lockdown', 'Post'])\n",
    "\n",
    "# 4. Season\n",
    "df['Season'] = df['REPORT_DAT'].dt.month % 12 // 3 + 1\n",
    "df['Season'] = df['Season'].map({1: 'Winter', 2: 'Spring', 3: 'Summer', 4: 'Fall'})\n",
    "\n",
    "# 5. Date Phase\n",
    "df['Date_Phase'] = df['REPORT_DAT'].dt.day // 10 + 1\n",
    "df['Date_Phase'] = df['Date_Phase'].map({1: 'Beginning', 2: 'Middle', 3: 'End'})\n",
    "\n",
    "# 6. Time hour\n",
    "df['Time_Hour'] = df['START_DATE'].dt.hour"
   ]
  },
  {
   "cell_type": "code",
   "execution_count": 45,
   "metadata": {},
   "outputs": [],
   "source": [
    "#print(Crime_Incidents_19_23.shape, df.shape)\n",
    "# (Dec 1) Export for Arcpy work \n",
    "feat = ['CCN','Year', 'Crime_Type', 'Clear_Time', 'Pandemic_Phase', 'Season', 'Date_Phase', 'Time_Hour'] \n",
    "# PK+ add features: \n",
    "df.to_csv(os.path.join(os.getcwd(),'Crime_Incidents_19_23_add_feat_all.csv'))\n",
    "#df[feat].to_csv(os.path.join(os.getcwd(),'Crime_Incidents_19_23_add_feat.csv'))"
   ]
  },
  {
   "cell_type": "code",
   "execution_count": 46,
   "metadata": {},
   "outputs": [
    {
     "data": {
      "text/plain": [
       "X                                   float64\n",
       "Y                                   float64\n",
       "CCN                                   int64\n",
       "REPORT_DAT              datetime64[ns, UTC]\n",
       "SHIFT                                object\n",
       "METHOD                               object\n",
       "OFFENSE                              object\n",
       "BLOCK                                object\n",
       "XBLOCK                              float64\n",
       "YBLOCK                              float64\n",
       "WARD                                float64\n",
       "ANC                                  object\n",
       "DISTRICT                            float64\n",
       "PSA                                 float64\n",
       "NEIGHBORHOOD_CLUSTER                 object\n",
       "BLOCK_GROUP                          object\n",
       "CENSUS_TRACT                        float64\n",
       "VOTING_PRECINCT                      object\n",
       "LATITUDE                            float64\n",
       "LONGITUDE                           float64\n",
       "BID                                  object\n",
       "START_DATE              datetime64[ns, UTC]\n",
       "END_DATE                datetime64[ns, UTC]\n",
       "OBJECTID                              int64\n",
       "OCTO_RECORD_ID                      float64\n",
       "Year                                 object\n",
       "Crime_Type                           object\n",
       "Clear_Time                          float64\n",
       "Pandemic_Phase                     category\n",
       "Season                               object\n",
       "Date_Phase                           object\n",
       "Time_Hour                           float64\n",
       "dtype: object"
      ]
     },
     "execution_count": 46,
     "metadata": {},
     "output_type": "execute_result"
    }
   ],
   "source": [
    "df.dtypes"
   ]
  },
  {
   "cell_type": "markdown",
   "metadata": {},
   "source": [
    "## Part Ⅳ. [ArcPro] Update GDB (Dec 1)\n",
    "  - Merge 5 year Crime incidents features \n",
    "    1) Aggregate current features based on Shapefiles\n",
    "    2) Make New feature class based on CSV (Part Ⅲ) \n",
    "  - Check the updated GDB, Make Final features (Will use 2)) <br>"
   ]
  },
  {
   "cell_type": "markdown",
   "metadata": {},
   "source": [
    "#### 1) Aggregate current features based on Shapefiles\n",
    "  -  Crime_Incidents_19_23_Merged"
   ]
  },
  {
   "cell_type": "code",
   "execution_count": null,
   "metadata": {},
   "outputs": [
    {
     "data": {
      "text/html": [
       "<div class='gpresult'><h2>Messages</h2><div id='messages' data-messages='[\"Start Time: Friday, December 1, 2023 9:48:35 PM\",\"WARNING 000595: C:\\\\Users\\\\NANMIN~1\\\\AppData\\\\Local\\\\Temp\\\\5\\\\Crime_Incidents_in_20200.fid contains the full list of records not able to be processed.\",\"WARNING 001156: Failed on input OID 72, could not write value &#39;3/4G&#39; to output field ANC\",\"WARNING 001156: Failed on input OID 243, could not write value &#39;3/4G&#39; to output field ANC\",\"WARNING 001156: Failed on input OID 274, could not write value &#39;3/4G&#39; to output field ANC\",\"WARNING 001156: Failed on input OID 333, could not write value &#39;3/4G&#39; to output field ANC\",\"WARNING 001156: Failed on input OID 493, could not write value &#39;3/4G&#39; to output field ANC\",\"WARNING 001156: Failed on input OID 575, could not write value &#39;3/4G&#39; to output field ANC\",\"WARNING 001156: Failed on input OID 576, could not write value &#39;3/4G&#39; to output field ANC\",\"WARNING 001156: Failed on input OID 818, could not write value &#39;3/4G&#39; to output field ANC\",\"WARNING 001156: Failed on input OID 1204, could not write value &#39;3/4G&#39; to output field ANC\",\"WARNING 001156: Failed on input OID 1386, could not write value &#39;3/4G&#39; to output field ANC\",\"WARNING 000595: C:\\\\Users\\\\NANMIN~1\\\\AppData\\\\Local\\\\Temp\\\\5\\\\Crime_Incidents_in_20210.fid contains the full list of records not able to be processed.\",\"WARNING 001156: Failed on input OID 68, could not write value &#39;3/4G&#39; to output field ANC\",\"WARNING 001156: Failed on input OID 219, could not write value &#39;3/4G&#39; to output field ANC\",\"WARNING 001156: Failed on input OID 232, could not write value &#39;3/4G&#39; to output field ANC\",\"WARNING 001156: Failed on input OID 255, could not write value &#39;3/4G&#39; to output field ANC\",\"WARNING 001156: Failed on input OID 313, could not write value &#39;3/4G&#39; to output field ANC\",\"WARNING 001156: Failed on input OID 560, could not write value &#39;3/4G&#39; to output field ANC\",\"WARNING 001156: Failed on input OID 566, could not write value &#39;3/4G&#39; to output field ANC\",\"WARNING 001156: Failed on input OID 677, could not write value &#39;3/4G&#39; to output field ANC\",\"WARNING 001156: Failed on input OID 787, could not write value &#39;3/4G&#39; to output field ANC\",\"WARNING 001156: Failed on input OID 956, could not write value &#39;3/4G&#39; to output field ANC\",\"WARNING 000595: C:\\\\Users\\\\NANMIN~1\\\\AppData\\\\Local\\\\Temp\\\\5\\\\Crime_Incidents_in_20220.fid contains the full list of records not able to be processed.\",\"WARNING 001156: Failed on input OID 137, could not write value &#39;3/4G&#39; to output field ANC\",\"WARNING 001156: Failed on input OID 173, could not write value &#39;3/4G&#39; to output field ANC\",\"WARNING 001156: Failed on input OID 192, could not write value &#39;3/4G&#39; to output field ANC\",\"WARNING 001156: Failed on input OID 514, could not write value &#39;3/4G&#39; to output field ANC\",\"WARNING 001156: Failed on input OID 725, could not write value &#39;3/4G&#39; to output field ANC\",\"WARNING 001156: Failed on input OID 1033, could not write value &#39;3/4G&#39; to output field ANC\",\"WARNING 001156: Failed on input OID 1116, could not write value &#39;3/4G&#39; to output field ANC\",\"WARNING 001156: Failed on input OID 1374, could not write value &#39;3/4G&#39; to output field ANC\",\"WARNING 001156: Failed on input OID 1804, could not write value &#39;3/4G&#39; to output field ANC\",\"WARNING 001156: Failed on input OID 1993, could not write value &#39;3/4G&#39; to output field ANC\",\"WARNING 000595: C:\\\\Users\\\\NANMIN~1\\\\AppData\\\\Local\\\\Temp\\\\5\\\\Crime_Incidents_in_2023_shp0.fid contains the full list of records not able to be processed.\",\"WARNING 001156: Failed on input OID 52, could not write value &#39;3/4G&#39; to output field ANC\",\"WARNING 001156: Failed on input OID 336, could not write value &#39;3/4G&#39; to output field ANC\",\"WARNING 001156: Failed on input OID 409, could not write value &#39;3/4G&#39; to output field ANC\",\"WARNING 001156: Failed on input OID 432, could not write value &#39;3/4G&#39; to output field ANC\",\"WARNING 001156: Failed on input OID 448, could not write value &#39;3/4G&#39; to output field ANC\",\"WARNING 001156: Failed on input OID 460, could not write value &#39;3700 - 3799 BLOCK OF FRANKLIN DELANO ROOSEVELT PLACE NE&#39; to output field BLOCK\",\"WARNING 001156: Failed on input OID 672, could not write value &#39;3/4G&#39; to output field ANC\",\"WARNING 001156: Failed on input OID 699, could not write value &#39;3/4G&#39; to output field ANC\",\"WARNING 001156: Failed on input OID 1036, could not write value &#39;3/4G&#39; to output field ANC\",\"WARNING 001156: Failed on input OID 1163, could not write value &#39;3/4G&#39; to output field ANC\",\"Succeeded at Friday, December 1, 2023 9:48:57 PM (Elapsed Time: 22.63 seconds)\"]' data-show='true'><div id = 'default' /></div></div>"
      ],
      "text/plain": [
       "<Result '.\\\\MyProject.gdb\\\\Crime_Incidents_19_23_Merged'>"
      ]
     },
     "metadata": {},
     "output_type": "display_data"
    }
   ],
   "source": [
    "# List of Crime shapefiles in current GDB\n",
    "feature_classes = ['Crime_Incidents_in_2019', 'Crime_Incidents_in_2020', 'Crime_Incidents_in_2021'\n",
    "                   , 'Crime_Incidents_in_2022', 'Crime_Incidents_in_2023_shp']  #2023: test(kml,shp,etc)\n",
    "\n",
    "# [Finished] Define Output merged feature class \n",
    "# out_feature_class = \"Crime_Incidents_19_23_Merged\"\n",
    "\n",
    "# Use the Merge tool to merge 5 years features (But in memory, Should do Copy to save)\n",
    "# arcpy.Merge_management(feature_classes, out_feature_class)"
   ]
  },
  {
   "cell_type": "code",
   "execution_count": null,
   "metadata": {},
   "outputs": [],
   "source": [
    "# Check PK field name\n",
    "desc = arcpy.Describe(\"Crime_Incidents_19_23_Merged\")\n",
    "for fld in desc.fields:\n",
    "    #    print(\"\\t\" + fld.name)\n",
    "    print(f\"{fld.name} : {fld.Type}\")"
   ]
  },
  {
   "cell_type": "code",
   "execution_count": 25,
   "metadata": {},
   "outputs": [
    {
     "name": "stdout",
     "output_type": "stream",
     "text": [
      "['X', 'Y', 'CCN', 'REPORT_DAT', 'SHIFT', 'METHOD', 'OFFENSE', 'BLOCK', 'XBLOCK', 'YBLOCK', 'WARD', 'ANC', 'DISTRICT', 'PSA', 'NEIGHBORHOOD_CLUSTER', 'BLOCK_GROUP', 'CENSUS_TRACT', 'VOTING_PRECINCT', 'LATITUDE', 'LONGITUDE', 'BID', 'START_DATE', 'END_DATE', 'OBJECTID', 'OCTO_RECORD_ID', 'Year', 'Crime_Type', 'Clear_Time', 'Pandemic_Phase', 'Season', 'Date_Phase', 'Time_Hour']\n"
     ]
    }
   ],
   "source": [
    "print(df.columns.to_list())  \n",
    "#part3 : Merged crime data with added features\n",
    "# pk = ['CCN'] , OBJECTID: PK but change whenever download it\n",
    "# add features: 'Crime_Type', 'Clear_Time', 'Pandemic_Phase', 'Season', 'Date_Phase', 'Time_Hour'"
   ]
  },
  {
   "cell_type": "code",
   "execution_count": 37,
   "metadata": {},
   "outputs": [
    {
     "data": {
      "text/plain": [
       "X                                   float64\n",
       "Y                                   float64\n",
       "CCN                                   int64\n",
       "REPORT_DAT              datetime64[ns, UTC]\n",
       "SHIFT                                object\n",
       "METHOD                               object\n",
       "OFFENSE                              object\n",
       "BLOCK                                object\n",
       "XBLOCK                              float64\n",
       "YBLOCK                              float64\n",
       "WARD                                float64\n",
       "ANC                                  object\n",
       "DISTRICT                            float64\n",
       "PSA                                 float64\n",
       "NEIGHBORHOOD_CLUSTER                 object\n",
       "BLOCK_GROUP                          object\n",
       "CENSUS_TRACT                        float64\n",
       "VOTING_PRECINCT                      object\n",
       "LATITUDE                            float64\n",
       "LONGITUDE                           float64\n",
       "BID                                  object\n",
       "START_DATE              datetime64[ns, UTC]\n",
       "END_DATE                datetime64[ns, UTC]\n",
       "OBJECTID                              int64\n",
       "OCTO_RECORD_ID                      float64\n",
       "Year                                 object\n",
       "Crime_Type                           object\n",
       "Clear_Time                          float64\n",
       "Pandemic_Phase                     category\n",
       "Season                               object\n",
       "Date_Phase                           object\n",
       "Time_Hour                           float64\n",
       "dtype: object"
      ]
     },
     "execution_count": 37,
     "metadata": {},
     "output_type": "execute_result"
    }
   ],
   "source": [
    "df.dtypes"
   ]
  },
  {
   "cell_type": "markdown",
   "metadata": {},
   "source": [
    "#### 2) Import the CSV file on GDB with X, Y coordinates\n",
    " - Make New feature class based on CSV : Crime_Incidents_19_23_Merged_CSV"
   ]
  },
  {
   "cell_type": "code",
   "execution_count": null,
   "metadata": {},
   "outputs": [],
   "source": [
    "# Import the CSV file as a table\n",
    "arcpy.TableToTable_conversion(\"Crime_Incidents_19_23_add_feat_all.csv\", arcpy.env.workspace, \"crime_19_23_csv\")"
   ]
  },
  {
   "cell_type": "code",
   "execution_count": 59,
   "metadata": {},
   "outputs": [],
   "source": [
    "# Convert to the Point (on ArcPro)\n",
    "# 1. On the Map tab, in the Layer group, click the Add Data drop-down menu, and click XY Point Data.\n",
    "# 2. Choose a table that contains x,y coordinate data.\n",
    "# 3. Click the X Field drop-down arrow and click the field containing x-coordinate values.\n",
    "# 4. Click the Y Field drop-down arrow and click the field containing y-coordinate values.\n",
    "\n",
    "# error on arcpy-- \n",
    "# --arcpy.MakeTableView_management(in_csv, \"csv_view_2\")\n",
    "# --arcpy.management.XYTableToPoint(\"csv_view_2\", \"Crime_Incidents_19_23_Merged_CSV\", \"X\", \"Y\")\n",
    "# errpr Join 2) to 1) -- code is okay, CCN column format issue \n",
    "# --arcpy.AddJoin_management(\"Crime_Incidents_19_23_Merged\", \"CCN\", \"csv_view_add_feat_f\", \"CCN\")\n"
   ]
  },
  {
   "cell_type": "markdown",
   "metadata": {},
   "source": [
    "#### TBD Works (DEC 1 update: GDB, Code, ipynb,py.)"
   ]
  },
  {
   "cell_type": "code",
   "execution_count": null,
   "metadata": {},
   "outputs": [],
   "source": [
    "# ex.  [Hospital] num_hospitals_crime: Integer or dummy(whether it exists or not, 0, 1)\t\t\t\t\t\t\t\n",
    "# 1. Calculate: 'num_hospitals' within 100 feet from a crime point \t\t\t\t\t\t\t\n",
    "# Hospital- Crime Point - SelectLayerByLocation WITHIN_A_DISTANCE (or Buffer_analysis)\t\t\t\t\t\t\t\n",
    "# GetCount(or Statistics_analysis)\t\t\t\t\t\t\t\n",
    "\t\t\t\t\t\t\t\n",
    "# 2. Iteration for all crime points: get spatial features\t\t\t\t\t\t\t\n",
    "\t\t\t\t\t\t\t\n",
    "# 3.  Link with socio-economic data  (summarized zonal statistics, crime intensity)\t\t\t\t\t\t\t\n",
    "# Summarize 'Average of num_hospitals' by Census_tract\t\t\t\t\t** Sum of\t\t\n",
    "# (End image)\t\t\t\t\t\t\t\n",
    "# Census\tPoverty\tnum_crime\tAvg_num_hospital\t\t\t\t\n",
    "# Region A\thigh\t10\t1\t\t\t\t\n"
   ]
  },
  {
   "cell_type": "code",
   "execution_count": null,
   "metadata": {},
   "outputs": [],
   "source": [
    "\n",
    "# # Create a buffer around the crime incidents\n",
    "# arcpy.Buffer_analysis(\"Crime_incident\", \"Crime_Buffer\", \"100 Feet\")\n",
    "\n",
    "# # Intersect the buffer with the properties\n",
    "# arcpy.Intersect_analysis([\"Crime_Buffer\", \"Properties\"], \"Buffer_Properties\")\n",
    "\n",
    "# # Calculate the number of properties within each buffer\n",
    "# arcpy.Statistics_analysis(\"Buffer_Properties\", \"Buffer_Eat_drinking\", [[\"OBJECTID\", \"COUNT\"]])\n",
    "\n",
    "\n",
    "\n",
    "# # Join the economic characteristics to the census tracts\n",
    "# arcpy.JoinField_management(\"Census_Tracts\", \"TRACT_ID\", \"Economic_Characteristics\", \"TRACT_ID\", \"DP03_0009PE\")\n",
    "\n",
    "# # Classify the unemployment rate\n",
    "# arcpy.ApplySymbologyFromLayer_management(\"Census_Tracts\", \"Unemployment_Symbology.lyrx\")\n"
   ]
  },
  {
   "cell_type": "code",
   "execution_count": null,
   "metadata": {},
   "outputs": [],
   "source": [
    "# Reference for opensource work\n",
    "# Read *gdb\n",
    "# import geopandas as gpd\n",
    "# # Read the .gdb file\n",
    "# gdf = gpd.read_file('project.gdb')"
   ]
  }
 ],
 "metadata": {
  "kernelspec": {
   "display_name": "Python 3.9.16 ('arcgispro-py3')",
   "language": "python",
   "name": "python3"
  },
  "language_info": {
   "codemirror_mode": {
    "name": "ipython",
    "version": 3
   },
   "file_extension": ".py",
   "mimetype": "text/x-python",
   "name": "python",
   "nbconvert_exporter": "python",
   "pygments_lexer": "ipython3",
   "version": "3.9.16"
  },
  "vscode": {
   "interpreter": {
    "hash": "5ef83ab4e3b1c610d58930f78968af47eb34a17cf26a42b6ce1eb23372798d71"
   }
  }
 },
 "nbformat": 4,
 "nbformat_minor": 4
}
