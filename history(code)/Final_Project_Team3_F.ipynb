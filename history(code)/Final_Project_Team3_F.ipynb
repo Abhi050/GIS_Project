{
 "cells": [
  {
   "cell_type": "markdown",
   "metadata": {},
   "source": [
    "# Final Project (Team3)\n",
    "\n",
    "This project aims to figure out unique patterns of crime incidents in Washington DC by visualizing spatial representations on a map and analyzing geographical attributes."
   ]
  },
  {
   "cell_type": "markdown",
   "metadata": {},
   "source": [
    "<font color='#6EB800'>*Reference: Reading Data (GDB, Raw datasets)*</font>\n",
    "\n",
    "1. All ArcPy(code) and ArcGIS analysis were worked on Apporto. (So path was also set using the path). But, for the case of testing a code on S drive, an absolute path of S drive was additionally added.\n",
    "\n",
    "2-1. All raw datasets downloaded on Web were stored on 'Data_update' Folder.\n",
    "   -  In Part 3, code to generate new Features could be tested. \n",
    "   \n",
    "2-2. Two GDB and one Mapfile were submitted. \n",
    "   - In Part 2, MyProject_pre.gdb (an inititial GDB as a result of Part 1) could be tested. (works on ArcGIS were decribed as comments) \n",
    "   - In Part 4, works to make Final GDB (saved as MyProject.gdb) were described (codes were commented out)\n",
    "   - In part 5, code to perform '1.Interactive Analysis (KDE)' could be tested on the temporal Map file (Final_Project_Team3_Map_bf_KDE.mapx)\n",
    "   - Codes to make '2. Explore Proximity feature' were commented out (already updated on GDB)\n",
    "\n",
    "2-3. Final Map file (used to make report) was submitted as 'Final_Project_Team3_Map.mapx'."
   ]
  },
  {
   "cell_type": "code",
   "execution_count": 4,
   "metadata": {},
   "outputs": [
    {
     "name": "stdout",
     "output_type": "stream",
     "text": [
      "\\\\apporto.com\\dfs\\GWU\\Users\\nanminwoo_gwu\\Desktop\n"
     ]
    }
   ],
   "source": [
    "import os\n",
    "print(os.getcwd())"
   ]
  },
  {
   "cell_type": "markdown",
   "metadata": {},
   "source": [
    "## Part Ⅰ. [WEB] Download Raw data \n",
    "\n",
    "- All datasets were gathered from [Open Data DC](https://opendata.dc.gov/explore?collection=Dataset) and preprocessed. \n",
    "\n",
    "- There are THREE types of specific datasets that were used in this project\n",
    "1. CRIME INCIDENTS (5 years: ‘19~23): *.Shp, *CSV\n",
    "2. Properties(13: Schools, Gas station, etc.): *.Shp\n",
    "3. Census Economic Characteristics(78 Statistics): *.Shp"
   ]
  },
  {
   "cell_type": "markdown",
   "metadata": {
    "heading_collapsed": true
   },
   "source": [
    "## Part Ⅱ. [ArcPro] Make Initial GDB- 'MyProject_pre.gdb'\n",
    "\n",
    "  - Batch Import (or add feature) *.shp files\n",
    "  - Show Featrues in the Map, Edit Point Symbology \n",
    "  - Arcpy: SET GDB Environment, Make KDE, etc <br>"
   ]
  },
  {
   "cell_type": "markdown",
   "metadata": {
    "hidden": true
   },
   "source": [
    "### 1. Verify GDB \n",
    "\n",
    "**Below code is to verify GDB which was generated on ArcPro**\n",
    "`arcpy.env.workspace` was set to the path for `MyProject_pre.gdb`."
   ]
  },
  {
   "cell_type": "code",
   "execution_count": 2,
   "metadata": {
    "hidden": true
   },
   "outputs": [],
   "source": [
    "import arcpy"
   ]
  },
  {
   "cell_type": "code",
   "execution_count": 70,
   "metadata": {
    "hidden": true
   },
   "outputs": [],
   "source": [
    "path = r'.\\MyProject_pre.gdb'  \n",
    "#When using S drive Path\n",
    "#path = r'S:\\DATS_6450.81_Topics_in_Data_Science_202303\\Woo,Nammin-NWoo\\GIS1_Team_3_Submission\\MyProject_pre.gdb'\n",
    "arcpy.env.workspace = (path)\n",
    "arcpy.overwriteOutput = True"
   ]
  },
  {
   "cell_type": "code",
   "execution_count": 71,
   "metadata": {
    "hidden": true
   },
   "outputs": [
    {
     "name": "stdout",
     "output_type": "stream",
     "text": [
      "['Crime_Incidents_in_2023_kml_point', 'Crime_Incidents_in_2023_shp', 'Census_Economic_shp', 'Census_Economic_kml_Polygons', 'Bank_Locations', 'Farmers_Market_Locations', 'Gas_Stations', 'Grocery_Store_Locations', 'Hospitals', 'Hotels', 'Liquor_Licenses', 'Metro_Station_Entrances_in_DC', 'National_Parks', 'Roads', 'Shopping_Centers', 'Sidewalk_Cafe', 'Crime_Incidents_in_2022', 'Crime_Incidents_in_2021', 'Crime_Incidents_in_2020', 'Crime_Incidents_in_2019', 'DC_Public_Schools']\n"
     ]
    }
   ],
   "source": [
    "# Check Feature classes\n",
    "fc_list = arcpy.ListFeatureClasses()\n",
    "print(fc_list)"
   ]
  },
  {
   "cell_type": "markdown",
   "metadata": {
    "hidden": true
   },
   "source": [
    "### 2. Census_Economic Feature class\n",
    "  \n",
    "   - Basic Check: descrie, field, row counts, samples"
   ]
  },
  {
   "cell_type": "code",
   "execution_count": 76,
   "metadata": {
    "hidden": true
   },
   "outputs": [],
   "source": [
    "desc2 = arcpy.Describe(\"Census_Economic_shp\")\n",
    "#desc2 "
   ]
  },
  {
   "cell_type": "code",
   "execution_count": 73,
   "metadata": {
    "hidden": true
   },
   "outputs": [
    {
     "name": "stdout",
     "output_type": "stream",
     "text": [
      "OBJECTID_1 : OID\n",
      "Shape : Geometry\n",
      "OBJECTID : SmallInteger\n",
      "STATEFP : String\n",
      "COUNTYFP : String\n",
      "TRACTCE : String\n",
      "GEOID : String\n",
      "NAME : String\n",
      "ALAND : Integer\n",
      "AWATER : Integer\n",
      "INTPTLAT : String\n",
      "INTPTLON : String\n",
      "DP03_0001E : SmallInteger\n",
      "DP03_0002E : SmallInteger\n",
      "DP03_0003E : SmallInteger\n",
      "DP03_0004E : SmallInteger\n",
      "DP03_0005E : SmallInteger\n",
      "DP03_0006E : SmallInteger\n",
      "DP03_0007E : SmallInteger\n",
      "DP03_0008E : SmallInteger\n",
      "DP03_0009P : Double\n",
      "DP03_0010E : SmallInteger\n",
      "DP03_0011E : SmallInteger\n",
      "DP03_0012E : SmallInteger\n",
      "DP03_0013E : SmallInteger\n",
      "DP03_0014E : SmallInteger\n",
      "DP03_0015E : SmallInteger\n",
      "DP03_0016E : SmallInteger\n",
      "DP03_0017E : SmallInteger\n",
      "DP03_0018E : SmallInteger\n",
      "DP03_0019E : SmallInteger\n",
      "DP03_0020E : SmallInteger\n",
      "DP03_0021E : SmallInteger\n",
      "DP03_0022E : SmallInteger\n",
      "DP03_0023E : SmallInteger\n",
      "DP03_0024E : SmallInteger\n",
      "DP03_0025E : Double\n",
      "DP03_0026E : SmallInteger\n",
      "DP03_0027E : SmallInteger\n",
      "DP03_0028E : SmallInteger\n",
      "DP03_0029E : SmallInteger\n",
      "DP03_0030E : SmallInteger\n",
      "DP03_0031E : SmallInteger\n",
      "DP03_0032E : SmallInteger\n",
      "DP03_0033E : SmallInteger\n",
      "DP03_0034E : SmallInteger\n",
      "DP03_0035E : SmallInteger\n",
      "DP03_0036E : SmallInteger\n",
      "DP03_0037E : SmallInteger\n",
      "DP03_0038E : SmallInteger\n",
      "DP03_0039E : SmallInteger\n",
      "DP03_0040E : SmallInteger\n",
      "DP03_0041E : SmallInteger\n",
      "DP03_0042E : SmallInteger\n",
      "DP03_0043E : SmallInteger\n",
      "DP03_0044E : SmallInteger\n",
      "DP03_0045E : SmallInteger\n",
      "DP03_0046E : SmallInteger\n",
      "DP03_0047E : SmallInteger\n",
      "DP03_0048E : SmallInteger\n",
      "DP03_0049E : SmallInteger\n",
      "DP03_0050E : SmallInteger\n",
      "DP03_0051E : SmallInteger\n",
      "DP03_0052E : SmallInteger\n",
      "DP03_0053E : SmallInteger\n",
      "DP03_0054E : SmallInteger\n",
      "DP03_0055E : SmallInteger\n",
      "DP03_0056E : SmallInteger\n",
      "DP03_0057E : SmallInteger\n",
      "DP03_0058E : SmallInteger\n",
      "DP03_0059E : SmallInteger\n",
      "DP03_0060E : SmallInteger\n",
      "DP03_0061E : SmallInteger\n",
      "DP03_0062E : Integer\n",
      "DP03_0063E : Integer\n",
      "DP03_0064E : SmallInteger\n",
      "DP03_0065E : Integer\n",
      "DP03_0066E : SmallInteger\n",
      "DP03_0067E : Integer\n",
      "DP03_0068E : SmallInteger\n",
      "DP03_0069E : Integer\n",
      "DP03_0070E : SmallInteger\n",
      "DP03_0071E : Integer\n",
      "DP03_0072E : SmallInteger\n",
      "DP03_0073E : String\n",
      "DP03_0074E : SmallInteger\n",
      "DP03_0075E : SmallInteger\n",
      "DP03_0076E : SmallInteger\n",
      "DP03_0077E : SmallInteger\n",
      "DP03_0078E : SmallInteger\n",
      "DP03_0079E : SmallInteger\n",
      "DP03_0080E : SmallInteger\n",
      "DP03_0081E : SmallInteger\n",
      "DP03_0082E : SmallInteger\n",
      "DP03_0083E : SmallInteger\n",
      "DP03_0084E : SmallInteger\n",
      "DP03_0085E : SmallInteger\n",
      "DP03_0086E : Integer\n",
      "DP03_0087E : Integer\n",
      "DP03_0088E : Integer\n",
      "DP03_0089E : SmallInteger\n",
      "DP03_0090E : Integer\n",
      "DP03_0091E : Integer\n",
      "DP03_0092E : Integer\n",
      "DP03_0093E : Integer\n",
      "DP03_0094E : Integer\n",
      "DP03_0095E : SmallInteger\n",
      "DP03_0096E : SmallInteger\n",
      "DP03_0097E : SmallInteger\n",
      "DP03_0098E : SmallInteger\n",
      "DP03_0099E : SmallInteger\n",
      "DP03_0100E : SmallInteger\n",
      "DP03_0101E : SmallInteger\n",
      "DP03_0102E : SmallInteger\n",
      "DP03_0103E : SmallInteger\n",
      "DP03_0104E : SmallInteger\n",
      "DP03_0105E : SmallInteger\n",
      "DP03_0106E : SmallInteger\n",
      "DP03_0107E : SmallInteger\n",
      "DP03_0108E : SmallInteger\n",
      "DP03_0109E : SmallInteger\n",
      "DP03_0110E : SmallInteger\n",
      "DP03_0111E : SmallInteger\n",
      "DP03_0112E : SmallInteger\n",
      "DP03_0113E : SmallInteger\n",
      "DP03_0114E : SmallInteger\n",
      "DP03_0115E : SmallInteger\n",
      "DP03_0116E : SmallInteger\n",
      "DP03_0117E : SmallInteger\n",
      "DP03_0118E : SmallInteger\n",
      "DP03_0119P : Double\n",
      "DP03_0120P : Double\n",
      "DP03_0121P : Double\n",
      "DP03_0122P : Double\n",
      "DP03_0123P : Double\n",
      "DP03_0124P : Double\n",
      "DP03_0127P : Double\n",
      "COMPLETE_N : String\n",
      "DP03_0125P : Double\n",
      "DP03_0126P : Double\n",
      "DP03_0128P : Double\n",
      "DP03_0129P : Double\n",
      "DP03_0130P : Double\n",
      "DP03_0131P : Double\n",
      "DP03_0132P : Double\n",
      "DP03_0133P : Double\n",
      "DP03_0134P : Double\n",
      "DP03_0135P : Double\n",
      "DP03_0136P : Double\n",
      "DP03_0137P : Double\n",
      "GIS_ID : String\n",
      "GLOBALID : String\n",
      "SHAPEAREA : SmallInteger\n",
      "SHAPELEN : SmallInteger\n",
      "Shape_Length : Double\n",
      "Shape_Area : Double\n",
      "Name: Census_Econmic_variales, feature count: 206\n"
     ]
    }
   ],
   "source": [
    "for fld in desc2.fields:\n",
    "    #    print(\"\\t\" + fld.name)\n",
    "    print(f\"{fld.name} : {fld.Type}\")\n",
    "\n",
    "# Number of record: GetCount : 206 Census Track Areas\n",
    "count = arcpy.GetCount_management('Census_Economic_shp')\n",
    "print(f\"Name: Census_Econmic_variales, feature count: {count}\")"
   ]
  },
  {
   "cell_type": "code",
   "execution_count": 75,
   "metadata": {
    "hidden": true
   },
   "outputs": [
    {
     "name": "stdout",
     "output_type": "stream",
     "text": [
      "Unemployment(%): 7.3\n",
      "Poverty(%): 0.5\n",
      "Unemployment(%): 2.2\n",
      "Poverty(%): 2.7\n",
      "Unemployment(%): 14.0\n",
      "Poverty(%): 23.6\n",
      "Unemployment(%): 40.0\n",
      "Poverty(%): 35.5\n",
      "Unemployment(%): 13.9\n",
      "Poverty(%): 12.4\n",
      "Reached 5 iterations. Do something else here.\n"
     ]
    }
   ],
   "source": [
    "# Check the sample: DP03_0009PE (truncated:DP03_0009P): unemployment_rate, DP03_0119PE(DP03_0119P): pct_all_families_below_poverty\n",
    "from arcpy.da import *\n",
    "with arcpy.da.SearchCursor(\"Census_Economic_shp\", (\"DP03_0009P\", \"DP03_0119P\")) as cursor:\n",
    "    i = 0\n",
    "    for val in cursor:\n",
    "        if i < 5:\n",
    "            print(f'Unemployment(%): {val[0]}')\n",
    "            print(f'Poverty(%): {val[1]}')\n",
    "            i += 1\n",
    "        else:\n",
    "            # Add your desired action here when i reaches 5 or more\n",
    "            print(\"Reached 5 iterations. Do something else here.\")\n",
    "            break "
   ]
  },
  {
   "cell_type": "markdown",
   "metadata": {
    "heading_collapsed": true
   },
   "source": [
    "## Part Ⅲ. Generate New Features\n",
    "\n",
    " - To enrich attributes of crime incidents, a feature engineering was performed as follows. \n",
    " - In this stage, CRIME INCIDENTS.CSV (Same data but *.CSV format) was additionally used. (Because Timestamp variables were truncked in *.Shp)\n",
    " - Six features were generated as below.\n",
    " - **The subsequent analysis will rely on an aggregated data frame, specifically a feature class within the GDB, encompassing five years' worth of crime incidents.**  \n",
    "  \n",
    "> *1. Crime_Type: Recategorized as 4 types* \n",
    ">   *(Theft, Other_Property_Crimes, Robbery, Other_Violent_Crimes)* \n",
    "> \n",
    "> *2. Clear_Time: Time to clear a crime incident(Minutes)*\n",
    ">   *(END_DATE - START_DATE)*\n",
    "> \n",
    "> *3. Pandemic Phase: 3 Phases*\n",
    ">   *(Before: 2019.1~2020.2, Lockdown: 2020.3.~ 2021.7, Post: 2021.8~2323.12)* \n",
    "> \n",
    "> *4. Season: Spring,Summer,Fall,Winter*\n",
    "> \n",
    "> *5. Date Phase: 1: 'Beginning', 2: 'Middle', 3: 'End'*\n",
    "> \n",
    "> *6. Time hour: 0~23*"
   ]
  },
  {
   "cell_type": "code",
   "execution_count": 1,
   "metadata": {
    "hidden": true
   },
   "outputs": [
    {
     "name": "stdout",
     "output_type": "stream",
     "text": [
      "Shape of Crime_Incidents_in_2019: (33950, 26)\n",
      "Shape of Crime_Incidents_in_2020: (27917, 26)\n",
      "Shape of Crime_Incidents_in_2021: (28348, 26)\n",
      "Shape of Crime_Incidents_in_2022: (27211, 26)\n",
      "Shape of Crime_Incidents_in_2023: (26022, 26)\n"
     ]
    }
   ],
   "source": [
    "# Read CRIME INCIDENTS (*.CSV) dataset from 2019~2023\n",
    "path = r'.\\Data_update\\Crime Raw data(openDC)_CSV'  \n",
    "#When using S drive Path\n",
    "#path = r'S:\\DATS_6450.81_Topics_in_Data_Science_202303\\Woo,Nammin-NWoo\\GIS1_Team_3_Submission\\Data_update\\Crime Raw data(openDC)_CSV'\n",
    "\n",
    "import pandas as pd\n",
    "import os\n",
    "for filename in os.listdir(path):\n",
    "    if filename.endswith('.csv'):\n",
    "        filepath = os.path.join(path, filename)\n",
    "        df_name = filename.split('.')[0]\n",
    "        year = df_name[-4:]\n",
    "        globals()[df_name]= pd.read_csv(filepath)\n",
    "        globals()[df_name]['Year'] = year # Add year column to distinguish\n",
    "        print(f'Shape of {df_name}: {globals()[df_name].shape}')"
   ]
  },
  {
   "cell_type": "code",
   "execution_count": 2,
   "metadata": {
    "hidden": true
   },
   "outputs": [
    {
     "data": {
      "text/plain": [
       "(143448, 26)"
      ]
     },
     "execution_count": 2,
     "metadata": {},
     "output_type": "execute_result"
    }
   ],
   "source": [
    "# Merge 5 years\n",
    "# List of dataframes\n",
    "dfs = [Crime_Incidents_in_2019, Crime_Incidents_in_2020, Crime_Incidents_in_2021, Crime_Incidents_in_2022, Crime_Incidents_in_2023]\n",
    "Crime_Incidents_19_23 = pd.concat(dfs, ignore_index=True)\n",
    "Crime_Incidents_19_23.shape"
   ]
  },
  {
   "cell_type": "code",
   "execution_count": 3,
   "metadata": {
    "hidden": true
   },
   "outputs": [
    {
     "name": "stdout",
     "output_type": "stream",
     "text": [
      "# of records Before Clean: 143448\n",
      " After Clean: 143384\n"
     ]
    }
   ],
   "source": [
    "# Verify PK of dataset\n",
    "pk = ['CCN']  #PK is OBJECTID but it change whenever download it \n",
    "temp = Crime_Incidents_19_23.drop_duplicates(subset=pk)\n",
    "print(f'# of records Before Clean: {Crime_Incidents_19_23.shape[0]}\\n After Clean: {temp.shape[0]}')"
   ]
  },
  {
   "cell_type": "code",
   "execution_count": 4,
   "metadata": {
    "hidden": true
   },
   "outputs": [
    {
     "data": {
      "text/plain": [
       "X                                   float64\n",
       "Y                                   float64\n",
       "CCN                                   int64\n",
       "REPORT_DAT              datetime64[ns, UTC]\n",
       "SHIFT                                object\n",
       "METHOD                               object\n",
       "OFFENSE                              object\n",
       "BLOCK                                object\n",
       "XBLOCK                              float64\n",
       "YBLOCK                              float64\n",
       "WARD                                float64\n",
       "ANC                                  object\n",
       "DISTRICT                            float64\n",
       "PSA                                 float64\n",
       "NEIGHBORHOOD_CLUSTER                 object\n",
       "BLOCK_GROUP                          object\n",
       "CENSUS_TRACT                        float64\n",
       "VOTING_PRECINCT                      object\n",
       "LATITUDE                            float64\n",
       "LONGITUDE                           float64\n",
       "BID                                  object\n",
       "START_DATE              datetime64[ns, UTC]\n",
       "END_DATE                datetime64[ns, UTC]\n",
       "OBJECTID                              int64\n",
       "OCTO_RECORD_ID                      float64\n",
       "Year                                 object\n",
       "Crime_Type                           object\n",
       "Clear_Time                          float64\n",
       "Pandemic_Phase                     category\n",
       "Season                               object\n",
       "Date_Phase                           object\n",
       "Time_Hour                           float64\n",
       "dtype: object"
      ]
     },
     "execution_count": 4,
     "metadata": {},
     "output_type": "execute_result"
    }
   ],
   "source": [
    "import copy\n",
    "df = copy.deepcopy(temp) # will use CCN dup dropped \n",
    "\n",
    "# 1. Crime_Type:  4 types (Theft, Other_Property_Crimes, Robbery, Other_Violent_Crimes)  \n",
    "crime_type_map = {'THEFT F/AUTO': 'Theft', 'THEFT/OTHER': 'Theft'\n",
    "                  , 'ARSON': 'Other_Property_Crimes', 'BURGLARY': 'Other_Property_Crimes', 'MOTOR VEHICLE THEFT': 'Other_Property_Crimes', 'ROBBERY': 'Robbery'\n",
    "                  , 'ASSAULT W/DANGEROUS WEAPON':'Other_Violent_Crimes'\n",
    "                  , 'HOMICIDE':'Other_Violent_Crimes', 'SEX ABUSE':'Other_Violent_Crimes'}\n",
    "\n",
    "df['Crime_Type'] = df['OFFENSE']\n",
    "df['Crime_Type'] = df['Crime_Type'].map(crime_type_map)\n",
    "\n",
    "# 2. Clear_Time: END_DATE - START_DATE(Minutes), Time to clear a crime incident\n",
    "df['START_DATE'] = pd.to_datetime(df['START_DATE'])\n",
    "df['END_DATE'] = pd.to_datetime(df['END_DATE'])\n",
    "df['Clear_Time'] = round((df['END_DATE'] - df['START_DATE']).dt.total_seconds() / 60,1)\n",
    "\n",
    "# 3. Pandemic Phase: (Before: 2019.1~2020.2, Lockdown: 2020.3.~ 2021.7, Post: 2021.8~2323.12) \n",
    "df['REPORT_DAT'] = pd.to_datetime(df['REPORT_DAT'])\n",
    "df['Pandemic_Phase'] = pd.cut(df['REPORT_DAT'],\n",
    "                               bins=[pd.Timestamp('2019-01-01'), pd.Timestamp('2020-03-01')\n",
    "                                     , pd.Timestamp('2021-08-01'), pd.Timestamp('2024-01-01')],\n",
    "                               labels=['Before', 'Lockdown', 'Post'])\n",
    "\n",
    "# 4. Season: Spring,Summer,Fall,Winter\n",
    "df['Season'] = df['REPORT_DAT'].dt.month % 12 // 3 + 1\n",
    "df['Season'] = df['Season'].map({1: 'Winter', 2: 'Spring', 3: 'Summer', 4: 'Fall'})\n",
    "\n",
    "# 5. Date Phase: 1: 'Beginning', 2: 'Middle', 3: 'End'\n",
    "df['Date_Phase'] = df['REPORT_DAT'].dt.day // 10 + 1\n",
    "df['Date_Phase'] = df['Date_Phase'].map({1: 'Beginning', 2: 'Middle', 3: 'End'})\n",
    "\n",
    "# 6. Time hour: 0~23\n",
    "df['Time_Hour'] = df['START_DATE'].dt.hour\n",
    "df.dtypes"
   ]
  },
  {
   "cell_type": "code",
   "execution_count": 11,
   "metadata": {
    "hidden": true
   },
   "outputs": [
    {
     "data": {
      "text/html": [
       "<div>\n",
       "<style scoped>\n",
       "    .dataframe tbody tr th:only-of-type {\n",
       "        vertical-align: middle;\n",
       "    }\n",
       "\n",
       "    .dataframe tbody tr th {\n",
       "        vertical-align: top;\n",
       "    }\n",
       "\n",
       "    .dataframe thead th {\n",
       "        text-align: right;\n",
       "    }\n",
       "</style>\n",
       "<table border=\"1\" class=\"dataframe\">\n",
       "  <thead>\n",
       "    <tr style=\"text-align: right;\">\n",
       "      <th></th>\n",
       "      <th>LATITUDE</th>\n",
       "      <th>LONGITUDE</th>\n",
       "      <th>DISTRICT</th>\n",
       "      <th>CENSUS_TRACT</th>\n",
       "      <th>Clear_Time</th>\n",
       "      <th>Crime_Type</th>\n",
       "      <th>Pandemic_Phase</th>\n",
       "      <th>Season</th>\n",
       "      <th>Date_Phase</th>\n",
       "    </tr>\n",
       "  </thead>\n",
       "  <tbody>\n",
       "    <tr>\n",
       "      <th>0</th>\n",
       "      <td>38.896122</td>\n",
       "      <td>-77.010245</td>\n",
       "      <td>1.0</td>\n",
       "      <td>5900.0</td>\n",
       "      <td>2.8</td>\n",
       "      <td>Theft</td>\n",
       "      <td>Before</td>\n",
       "      <td>Spring</td>\n",
       "      <td>Middle</td>\n",
       "    </tr>\n",
       "    <tr>\n",
       "      <th>1</th>\n",
       "      <td>38.867982</td>\n",
       "      <td>-76.981735</td>\n",
       "      <td>6.0</td>\n",
       "      <td>7605.0</td>\n",
       "      <td>32.8</td>\n",
       "      <td>Theft</td>\n",
       "      <td>Before</td>\n",
       "      <td>Spring</td>\n",
       "      <td>Middle</td>\n",
       "    </tr>\n",
       "    <tr>\n",
       "      <th>2</th>\n",
       "      <td>38.910584</td>\n",
       "      <td>-77.065019</td>\n",
       "      <td>2.0</td>\n",
       "      <td>102.0</td>\n",
       "      <td>4.8</td>\n",
       "      <td>Theft</td>\n",
       "      <td>Before</td>\n",
       "      <td>Spring</td>\n",
       "      <td>Middle</td>\n",
       "    </tr>\n",
       "    <tr>\n",
       "      <th>3</th>\n",
       "      <td>38.957795</td>\n",
       "      <td>-77.001698</td>\n",
       "      <td>4.0</td>\n",
       "      <td>9505.0</td>\n",
       "      <td>NaN</td>\n",
       "      <td>Theft</td>\n",
       "      <td>Before</td>\n",
       "      <td>Spring</td>\n",
       "      <td>Beginning</td>\n",
       "    </tr>\n",
       "    <tr>\n",
       "      <th>4</th>\n",
       "      <td>38.885835</td>\n",
       "      <td>-76.929379</td>\n",
       "      <td>6.0</td>\n",
       "      <td>9904.0</td>\n",
       "      <td>49.8</td>\n",
       "      <td>Robbery</td>\n",
       "      <td>Before</td>\n",
       "      <td>Spring</td>\n",
       "      <td>Beginning</td>\n",
       "    </tr>\n",
       "  </tbody>\n",
       "</table>\n",
       "</div>"
      ],
      "text/plain": [
       "    LATITUDE  LONGITUDE  DISTRICT  CENSUS_TRACT  Clear_Time Crime_Type  \\\n",
       "0  38.896122 -77.010245       1.0        5900.0         2.8      Theft   \n",
       "1  38.867982 -76.981735       6.0        7605.0        32.8      Theft   \n",
       "2  38.910584 -77.065019       2.0         102.0         4.8      Theft   \n",
       "3  38.957795 -77.001698       4.0        9505.0         NaN      Theft   \n",
       "4  38.885835 -76.929379       6.0        9904.0        49.8    Robbery   \n",
       "\n",
       "  Pandemic_Phase  Season Date_Phase  \n",
       "0         Before  Spring     Middle  \n",
       "1         Before  Spring     Middle  \n",
       "2         Before  Spring     Middle  \n",
       "3         Before  Spring  Beginning  \n",
       "4         Before  Spring  Beginning  "
      ]
     },
     "execution_count": 11,
     "metadata": {},
     "output_type": "execute_result"
    }
   ],
   "source": [
    "col = ['LATITUDE','LONGITUDE','DISTRICT','CENSUS_TRACT','Clear_Time','Crime_Type','Pandemic_Phase','Season','Date_Phase']\n",
    "df[col].head()"
   ]
  },
  {
   "cell_type": "code",
   "execution_count": null,
   "metadata": {
    "hidden": true
   },
   "outputs": [],
   "source": [
    "col = ['LATITUDE','LONGITUDE','DISTRICT','CENSUS_TRACT','Clear_Time','Crime_Type','Pandemic_Phase','Season','Date_Phase']\n",
    "df[col].head()"
   ]
  },
  {
   "cell_type": "code",
   "execution_count": 14,
   "metadata": {
    "hidden": true
   },
   "outputs": [
    {
     "data": {
      "text/html": [
       "<div>\n",
       "<style scoped>\n",
       "    .dataframe tbody tr th:only-of-type {\n",
       "        vertical-align: middle;\n",
       "    }\n",
       "\n",
       "    .dataframe tbody tr th {\n",
       "        vertical-align: top;\n",
       "    }\n",
       "\n",
       "    .dataframe thead th {\n",
       "        text-align: right;\n",
       "    }\n",
       "</style>\n",
       "<table border=\"1\" class=\"dataframe\">\n",
       "  <thead>\n",
       "    <tr style=\"text-align: right;\">\n",
       "      <th></th>\n",
       "      <th>LATITUDE</th>\n",
       "      <th>LONGITUDE</th>\n",
       "      <th>DISTRICT</th>\n",
       "      <th>CENSUS_TRACT</th>\n",
       "      <th>Clear_Time</th>\n",
       "      <th>Crime_Type</th>\n",
       "      <th>Pandemic_Phase</th>\n",
       "      <th>Season</th>\n",
       "      <th>Date_Phase</th>\n",
       "    </tr>\n",
       "  </thead>\n",
       "  <tbody>\n",
       "    <tr>\n",
       "      <th>count</th>\n",
       "      <td>143384.000000</td>\n",
       "      <td>143384.000000</td>\n",
       "      <td>142971.000000</td>\n",
       "      <td>143366.000000</td>\n",
       "      <td>1.284570e+05</td>\n",
       "      <td>143384</td>\n",
       "      <td>143384</td>\n",
       "      <td>143384</td>\n",
       "      <td>136389</td>\n",
       "    </tr>\n",
       "    <tr>\n",
       "      <th>unique</th>\n",
       "      <td>NaN</td>\n",
       "      <td>NaN</td>\n",
       "      <td>NaN</td>\n",
       "      <td>NaN</td>\n",
       "      <td>NaN</td>\n",
       "      <td>4</td>\n",
       "      <td>3</td>\n",
       "      <td>4</td>\n",
       "      <td>3</td>\n",
       "    </tr>\n",
       "    <tr>\n",
       "      <th>top</th>\n",
       "      <td>NaN</td>\n",
       "      <td>NaN</td>\n",
       "      <td>NaN</td>\n",
       "      <td>NaN</td>\n",
       "      <td>NaN</td>\n",
       "      <td>Theft</td>\n",
       "      <td>Post</td>\n",
       "      <td>Summer</td>\n",
       "      <td>End</td>\n",
       "    </tr>\n",
       "    <tr>\n",
       "      <th>freq</th>\n",
       "      <td>NaN</td>\n",
       "      <td>NaN</td>\n",
       "      <td>NaN</td>\n",
       "      <td>NaN</td>\n",
       "      <td>NaN</td>\n",
       "      <td>99349</td>\n",
       "      <td>66314</td>\n",
       "      <td>40637</td>\n",
       "      <td>47279</td>\n",
       "    </tr>\n",
       "    <tr>\n",
       "      <th>mean</th>\n",
       "      <td>38.907728</td>\n",
       "      <td>-77.008253</td>\n",
       "      <td>3.680935</td>\n",
       "      <td>7893.363936</td>\n",
       "      <td>2.678716e+03</td>\n",
       "      <td>NaN</td>\n",
       "      <td>NaN</td>\n",
       "      <td>NaN</td>\n",
       "      <td>NaN</td>\n",
       "    </tr>\n",
       "    <tr>\n",
       "      <th>std</th>\n",
       "      <td>0.029832</td>\n",
       "      <td>0.035288</td>\n",
       "      <td>1.852817</td>\n",
       "      <td>39346.166624</td>\n",
       "      <td>1.473507e+05</td>\n",
       "      <td>NaN</td>\n",
       "      <td>NaN</td>\n",
       "      <td>NaN</td>\n",
       "      <td>NaN</td>\n",
       "    </tr>\n",
       "    <tr>\n",
       "      <th>min</th>\n",
       "      <td>38.813473</td>\n",
       "      <td>-77.114139</td>\n",
       "      <td>1.000000</td>\n",
       "      <td>101.000000</td>\n",
       "      <td>-6.000000e+01</td>\n",
       "      <td>NaN</td>\n",
       "      <td>NaN</td>\n",
       "      <td>NaN</td>\n",
       "      <td>NaN</td>\n",
       "    </tr>\n",
       "    <tr>\n",
       "      <th>25%</th>\n",
       "      <td>38.894473</td>\n",
       "      <td>-77.031559</td>\n",
       "      <td>2.000000</td>\n",
       "      <td>3702.000000</td>\n",
       "      <td>1.860000e+01</td>\n",
       "      <td>NaN</td>\n",
       "      <td>NaN</td>\n",
       "      <td>NaN</td>\n",
       "      <td>NaN</td>\n",
       "    </tr>\n",
       "    <tr>\n",
       "      <th>50%</th>\n",
       "      <td>38.907360</td>\n",
       "      <td>-77.012149</td>\n",
       "      <td>3.000000</td>\n",
       "      <td>7202.000000</td>\n",
       "      <td>6.500000e+01</td>\n",
       "      <td>NaN</td>\n",
       "      <td>NaN</td>\n",
       "      <td>NaN</td>\n",
       "      <td>NaN</td>\n",
       "    </tr>\n",
       "    <tr>\n",
       "      <th>75%</th>\n",
       "      <td>38.924468</td>\n",
       "      <td>-76.986516</td>\n",
       "      <td>5.000000</td>\n",
       "      <td>9102.000000</td>\n",
       "      <td>3.542000e+02</td>\n",
       "      <td>NaN</td>\n",
       "      <td>NaN</td>\n",
       "      <td>NaN</td>\n",
       "      <td>NaN</td>\n",
       "    </tr>\n",
       "    <tr>\n",
       "      <th>max</th>\n",
       "      <td>38.994909</td>\n",
       "      <td>-76.910012</td>\n",
       "      <td>7.000000</td>\n",
       "      <td>980000.000000</td>\n",
       "      <td>4.203333e+07</td>\n",
       "      <td>NaN</td>\n",
       "      <td>NaN</td>\n",
       "      <td>NaN</td>\n",
       "      <td>NaN</td>\n",
       "    </tr>\n",
       "  </tbody>\n",
       "</table>\n",
       "</div>"
      ],
      "text/plain": [
       "             LATITUDE      LONGITUDE       DISTRICT   CENSUS_TRACT  \\\n",
       "count   143384.000000  143384.000000  142971.000000  143366.000000   \n",
       "unique            NaN            NaN            NaN            NaN   \n",
       "top               NaN            NaN            NaN            NaN   \n",
       "freq              NaN            NaN            NaN            NaN   \n",
       "mean        38.907728     -77.008253       3.680935    7893.363936   \n",
       "std          0.029832       0.035288       1.852817   39346.166624   \n",
       "min         38.813473     -77.114139       1.000000     101.000000   \n",
       "25%         38.894473     -77.031559       2.000000    3702.000000   \n",
       "50%         38.907360     -77.012149       3.000000    7202.000000   \n",
       "75%         38.924468     -76.986516       5.000000    9102.000000   \n",
       "max         38.994909     -76.910012       7.000000  980000.000000   \n",
       "\n",
       "          Clear_Time Crime_Type Pandemic_Phase  Season Date_Phase  \n",
       "count   1.284570e+05     143384         143384  143384     136389  \n",
       "unique           NaN          4              3       4          3  \n",
       "top              NaN      Theft           Post  Summer        End  \n",
       "freq             NaN      99349          66314   40637      47279  \n",
       "mean    2.678716e+03        NaN            NaN     NaN        NaN  \n",
       "std     1.473507e+05        NaN            NaN     NaN        NaN  \n",
       "min    -6.000000e+01        NaN            NaN     NaN        NaN  \n",
       "25%     1.860000e+01        NaN            NaN     NaN        NaN  \n",
       "50%     6.500000e+01        NaN            NaN     NaN        NaN  \n",
       "75%     3.542000e+02        NaN            NaN     NaN        NaN  \n",
       "max     4.203333e+07        NaN            NaN     NaN        NaN  "
      ]
     },
     "execution_count": 14,
     "metadata": {},
     "output_type": "execute_result"
    }
   ],
   "source": [
    "df[col].describe(include = 'all')"
   ]
  },
  {
   "cell_type": "code",
   "execution_count": 6,
   "metadata": {
    "hidden": true
   },
   "outputs": [
    {
     "data": {
      "text/plain": [
       "Theft                    99349\n",
       "Other_Property_Crimes    23890\n",
       "Robbery                  11009\n",
       "Other_Violent_Crimes      9136\n",
       "Name: Crime_Type, dtype: int64"
      ]
     },
     "execution_count": 6,
     "metadata": {},
     "output_type": "execute_result"
    }
   ],
   "source": [
    "df['Crime_Type'].value_counts()"
   ]
  },
  {
   "cell_type": "code",
   "execution_count": 7,
   "metadata": {
    "hidden": true
   },
   "outputs": [
    {
     "data": {
      "text/plain": [
       "Post        66314\n",
       "Before      39412\n",
       "Lockdown    37658\n",
       "Name: Pandemic_Phase, dtype: int64"
      ]
     },
     "execution_count": 7,
     "metadata": {},
     "output_type": "execute_result"
    }
   ],
   "source": [
    "df['Pandemic_Phase'].value_counts()"
   ]
  },
  {
   "cell_type": "code",
   "execution_count": 8,
   "metadata": {
    "hidden": true
   },
   "outputs": [
    {
     "data": {
      "text/html": [
       "<div>\n",
       "<style scoped>\n",
       "    .dataframe tbody tr th:only-of-type {\n",
       "        vertical-align: middle;\n",
       "    }\n",
       "\n",
       "    .dataframe tbody tr th {\n",
       "        vertical-align: top;\n",
       "    }\n",
       "\n",
       "    .dataframe thead th {\n",
       "        text-align: right;\n",
       "    }\n",
       "</style>\n",
       "<table border=\"1\" class=\"dataframe\">\n",
       "  <thead>\n",
       "    <tr style=\"text-align: right;\">\n",
       "      <th>Crime_Type</th>\n",
       "      <th>Other_Property_Crimes</th>\n",
       "      <th>Other_Violent_Crimes</th>\n",
       "      <th>Robbery</th>\n",
       "      <th>Theft</th>\n",
       "    </tr>\n",
       "    <tr>\n",
       "      <th>Pandemic_Phase</th>\n",
       "      <th></th>\n",
       "      <th></th>\n",
       "      <th></th>\n",
       "      <th></th>\n",
       "    </tr>\n",
       "  </thead>\n",
       "  <tbody>\n",
       "    <tr>\n",
       "      <th>Before</th>\n",
       "      <td>4040</td>\n",
       "      <td>2216</td>\n",
       "      <td>2535</td>\n",
       "      <td>30621</td>\n",
       "    </tr>\n",
       "    <tr>\n",
       "      <th>Lockdown</th>\n",
       "      <td>6656</td>\n",
       "      <td>2809</td>\n",
       "      <td>2732</td>\n",
       "      <td>25461</td>\n",
       "    </tr>\n",
       "    <tr>\n",
       "      <th>Post</th>\n",
       "      <td>13194</td>\n",
       "      <td>4111</td>\n",
       "      <td>5742</td>\n",
       "      <td>43267</td>\n",
       "    </tr>\n",
       "  </tbody>\n",
       "</table>\n",
       "</div>"
      ],
      "text/plain": [
       "Crime_Type      Other_Property_Crimes  Other_Violent_Crimes  Robbery  Theft\n",
       "Pandemic_Phase                                                             \n",
       "Before                           4040                  2216     2535  30621\n",
       "Lockdown                         6656                  2809     2732  25461\n",
       "Post                            13194                  4111     5742  43267"
      ]
     },
     "execution_count": 8,
     "metadata": {},
     "output_type": "execute_result"
    }
   ],
   "source": [
    "import pandas as pe\n",
    "pd.crosstab(df.Pandemic_Phase,df.Crime_Type)\n",
    "#pd.crosstab(w1.education,w1.income00, normalize='index').mul(100).round(1)"
   ]
  },
  {
   "cell_type": "code",
   "execution_count": 19,
   "metadata": {
    "hidden": true
   },
   "outputs": [
    {
     "data": {
      "image/png": "[encoded data removed]",
      "text/plain": [
       "<Figure size 640x480 with 1 Axes>"
      ]
     },
     "metadata": {},
     "output_type": "display_data"
    }
   ],
   "source": [
    "import seaborn as sns\n",
    "import matplotlib.pyplot as plt\n",
    "import pandas as pd\n",
    "\n",
    "# Get the value counts\n",
    "counts = df['Crime_Type'].value_counts()\n",
    "# Replace the index with your new labels\n",
    "counts.index = ['Theft', 'Property(exc Thft)', 'Robbery', 'Violence(exe Robb)']\n",
    "ax =  counts.plot(kind='bar',legend=False)\n",
    "ax.set_xlabel('Types of Crime incidents') # \n",
    "ax.set_ylabel('Frequency')\n",
    "plt.xticks(rotation=45) # horizontal \n",
    "plt.title(\"# of Crime incidients by Crime types ('19Y~'23Y)\")\n",
    "plt.tight_layout()\n",
    "#plt.show()\n",
    "# Save the plot\n",
    "plt.savefig(f'Crime_Type_all_periods.jpg')"
   ]
  },
  {
   "cell_type": "code",
   "execution_count": 18,
   "metadata": {
    "hidden": true
   },
   "outputs": [
    {
     "data": {
      "image/png": "[encoded data removed]",
      "text/plain": [
       "<Figure size 640x480 with 1 Axes>"
      ]
     },
     "metadata": {},
     "output_type": "display_data"
    }
   ],
   "source": [
    "# Get the value counts\n",
    "counts = df['Pandemic_Phase'].value_counts().sort_index()\n",
    "# avg/a month.\n",
    "counts[0] = (counts[0]/14).astype(int)\n",
    "counts[1] = (counts[1]/17).astype(int)\n",
    "counts[2] = (counts[2]/29).astype(int)\n",
    "# Replace the index with your new labels\n",
    "counts.index = ['Before Pandemic', 'Lockdown', 'Post Pandemic']\n",
    "ax =  counts.plot(kind='bar',legend=False)\n",
    "ax.set_xlabel('Phases') # \n",
    "ax.set_ylabel('Frequency(Avg/month)')\n",
    "plt.xticks(rotation=45) # horizontal \n",
    "plt.title(\"# of Crime incidients by Period Phases\")\n",
    "plt.tight_layout()\n",
    "#plt.show()\n",
    "# Save the plot\n",
    "plt.savefig(f'Pandemic_Phase_all_periods.jpg')"
   ]
  },
  {
   "cell_type": "code",
   "execution_count": 65,
   "metadata": {
    "hidden": true
   },
   "outputs": [
    {
     "data": {
      "image/png": "[encoded data removed]",
      "text/plain": [
       "<Figure size 640x480 with 1 Axes>"
      ]
     },
     "metadata": {},
     "output_type": "display_data"
    }
   ],
   "source": [
    "# Calculate the counts of 'Pandemic_Phase' and 'Crime_Type'\n",
    "counts = df.groupby(['Pandemic_Phase', 'Crime_Type']).size().unstack()\n",
    "\n",
    "# Normalize the counts to get percentages\n",
    "counts = (counts.div(counts.sum(axis=1), axis=0) * 100).sort_index()\n",
    "#print(counts)\n",
    "# Replace the index with your new labels\n",
    "counts.index = ['Before Pandemic', 'Lockdown', 'Post Pandemic']\n",
    "\n",
    "# Plot the stacked bar chart\n",
    "ax = counts.plot(kind='bar', stacked=True, legend=True)\n",
    "ax.set_xlabel('Phases')\n",
    "ax.set_ylabel('Percentage (%)')\n",
    "ax.legend(loc='best', bbox_to_anchor=(1, 0.5), prop={'size': 8})\n",
    "plt.xticks(rotation=0) # horizontal \n",
    "plt.title(r\"% of Crime types by Period Phases\")\n",
    "plt.tight_layout()\n",
    "\n",
    "# Add annotations\n",
    "for p in ax.patches:\n",
    "    width, height = p.get_width(), p.get_height()\n",
    "    x, y = p.get_xy() \n",
    "    ax.text(x+width/2, \n",
    "            y+height/2, \n",
    "            '{:.0f} %'.format(height), \n",
    "            horizontalalignment='center', \n",
    "            verticalalignment='center')\n",
    "\n",
    "#plt.show()\n",
    "# Save the plot\n",
    "plt.savefig('Crime_types_by_Phase.jpg')"
   ]
  },
  {
   "cell_type": "markdown",
   "metadata": {
    "hidden": true
   },
   "source": [
    "###  Export dataframe to CSV \n",
    "\n",
    "   * Exported CSV file will be added on the current GDB  "
   ]
  },
  {
   "cell_type": "code",
   "execution_count": 12,
   "metadata": {
    "hidden": true
   },
   "outputs": [],
   "source": [
    "#print(Crime_Incidents_19_23.shape, df.shape)\n",
    "#\n",
    "feat = ['CCN','Year', 'Crime_Type', 'Clear_Time', 'Pandemic_Phase', 'Season', 'Date_Phase', 'Time_Hour'] \n",
    "# PK+ add features: \n",
    "df.to_csv(os.path.join(os.getcwd(),'Crime_Incidents_19_23_add_feat_all.csv'))\n",
    "#df[feat].to_csv(os.path.join(os.getcwd(),'Crime_Incidents_19_23_add_feat.csv'))"
   ]
  },
  {
   "cell_type": "markdown",
   "metadata": {
    "heading_collapsed": true
   },
   "source": [
    "## Part Ⅳ. [ArcPro] Make Final GDB - 'MyProject.gdb'\n",
    "\n",
    "  - New features (Part Ⅲ) were updated to the current GDB (MyProject_pre.gdb)\n",
    "  - Merged previous 5 year Crime incidents features(based on Shapefiles) into 1 feature (Ready to Analysis)\n",
    "  - **Final GDB was saved as MyProject.gdb**\n",
    "  - *Feature class \"Crime_Incidents_19_23_Merged_CSV\" will be mainly used in upcoming analysis*"
   ]
  },
  {
   "cell_type": "code",
   "execution_count": null,
   "metadata": {
    "hidden": true
   },
   "outputs": [],
   "source": [
    "# 1) Aggregate current features based on Shapefiles \n",
    "# List of Crime shapefiles in current GDB\n",
    "feature_classes = ['Crime_Incidents_in_2019', 'Crime_Incidents_in_2020', 'Crime_Incidents_in_2021', 'Crime_Incidents_in_2022', 'Crime_Incidents_in_2023_shp']  #2023: test(kml,shp,etc)\n",
    "\n",
    "# [Finished] Define Output merged feature class \n",
    "# out_feature_class = \"Crime_Incidents_19_23_Merged\"\n",
    "# Used the Merge tool to merge 5 years features (But in memory, Should do Copy to save)\n",
    "# arcpy.Merge_management(feature_classes, out_feature_class)"
   ]
  },
  {
   "cell_type": "code",
   "execution_count": null,
   "metadata": {
    "hidden": true
   },
   "outputs": [],
   "source": [
    "# Check a result, Field names\n",
    "desc = arcpy.Describe(\"Crime_Incidents_19_23_Merged\")\n",
    "for fld in desc.fields:\n",
    "    #    print(\"\\t\" + fld.name)\n",
    "    print(f\"{fld.name} : {fld.Type}\")\n",
    "print(df.columns.to_list())  "
   ]
  },
  {
   "cell_type": "markdown",
   "metadata": {
    "hidden": true
   },
   "source": [
    "#### Below code to add new feature to the GDB was commented out \n",
    "    \n",
    "     - All features were already added to the final GDB (MyProject.gdb)"
   ]
  },
  {
   "cell_type": "code",
   "execution_count": 14,
   "metadata": {
    "hidden": true
   },
   "outputs": [
    {
     "data": {
      "text/html": [
       "<div class='gpresult'><h2>Messages</h2><div id='messages' data-messages='[\"Start Time: Wednesday, December 13, 2023 4:37:24 PM\",\"Succeeded at Wednesday, December 13, 2023 4:38:01 PM (Elapsed Time: 36.55 seconds)\"]' data-show='true'><div id = 'default' /></div></div>"
      ],
      "text/plain": [
       "<Result '.\\\\MyProject.gdb\\\\crime_19_23_csv'>"
      ]
     },
     "execution_count": 14,
     "metadata": {},
     "output_type": "execute_result"
    }
   ],
   "source": [
    "# 2) Make \"Crime_Incidents_19_23_Merged_CSV\" by importing generated output(Part Ⅲ CSV)\n",
    "\n",
    "# [Finished] Import the CSV file as a table\n",
    "#arcpy.TableToTable_conversion(\"Crime_Incidents_19_23_add_feat_all.csv\", arcpy.env.workspace, \"crime_19_23_csv\")\n",
    "\n",
    "# [Worked on ArcPro] Converted the table to the Point feature class on ArcPro\n",
    "# 1. On the Map tab, in the Layer group, click the Add Data drop-down menu, and click XY Point Data.\n",
    "# 2. Choose a table that contains x,y coordinate data.\n",
    "# 3. Click the X Field drop-down arrow and click the field containing x-coordinate values.\n",
    "# 4. Click the Y Field drop-down arrow and click the field containing y-coordinate values.\n",
    "# 5. Saved Updated GDB as MyProject.gdb\n",
    "\n",
    "# Alternative trials by arcpy-- \n",
    "# arcpy.MakeTableView_management(in_csv, \"csv_view_2\")\n",
    "# arcpy.management.XYTableToPoint(\"csv_view_2\", \"Crime_Incidents_19_23_Merged_CSV\", \"X\", \"Y\")\n",
    "# arcpy.AddJoin_management(\"Crime_Incidents_19_23_Merged\", \"CCN\", \"csv_view_add_feat_f\", \"CCN\")"
   ]
  },
  {
   "cell_type": "markdown",
   "metadata": {},
   "source": [
    "## Part Ⅴ. Analysis \n",
    "   \n",
    "    1. Interactive Analysis to Visualize Crime Hot spots(KDE)\n",
    "    2. Explore Proximity feature"
   ]
  },
  {
   "cell_type": "code",
   "execution_count": 5,
   "metadata": {},
   "outputs": [],
   "source": [
    "import arcpy\n",
    "#path = r'.\\MyProject.gdb'\n",
    "path = r'\\\\apporto.com\\dfs\\GWU\\Users\\nanminwoo_gwu\\Desktop\\IGSUP_data_student\\IGSUP_data_student\\@Final Project\\MyProject (GDB,ArcPy)\\MyProject.gdb'\n",
    "#When using S drive Path\n",
    "#path = r'S:\\DATS_6450.81_Topics_in_Data_Science_202303\\Woo,Nammin-NWoo\\GIS1_Team_3_Submission\\MyProject.gdb'\n",
    "arcpy.env.workspace = (path)\n",
    "arcpy.overwriteOutput = True"
   ]
  },
  {
   "cell_type": "code",
   "execution_count": 6,
   "metadata": {},
   "outputs": [
    {
     "name": "stdout",
     "output_type": "stream",
     "text": [
      "['Crime_Incidents_in_2023_kml_point', 'Crime_Incidents_in_2023_shp', 'Census_Economic_shp', 'Census_Economic_kml_Polygons', 'Bank_Locations', 'Farmers_Market_Locations', 'Gas_Stations', 'Grocery_Store_Locations', 'Hospitals', 'Hotels', 'Liquor_Licenses', 'Metro_Station_Entrances_in_DC', 'National_Parks', 'Roads', 'Shopping_Centers', 'Sidewalk_Cafe', 'Crime_Incidents_in_2022', 'Crime_Incidents_in_2021', 'Crime_Incidents_in_2020', 'Crime_Incidents_in_2019', 'DC_Public_Schools', 'Crime_Incidents_19_23_Merged', 'Crime_Incidents_19_23_Merged_CSV', 'Crime_Buffer_Bank_Locations', 'Buffer_Properties_Intersect_Bank_Locations', 'Crime_Buffer_Farmers_Market_Locations', 'Buffer_Properties_Intersect_Farmers_Market_Locations', 'Crime_Buffer_Gas_Stations', 'Buffer_Properties_Intersect_Gas_Stations', 'Crime_Buffer_Grocery_Store_Locations', 'Buffer_Properties_Intersect_Grocery_Store_Locations', 'Crime_Buffer_Hospitals', 'Buffer_Properties_Intersect_Hospitals', 'Crime_Buffer_Hotels', 'Buffer_Properties_Intersect_Hotels', 'Crime_Buffer_Liquor_Licenses', 'Buffer_Properties_Intersect_Liquor_Licenses', 'Crime_Buffer_Metro_Station_Entrances_in_DC', 'Buffer_Properties_Intersect_Metro_Station_Entrances_in_DC', 'Crime_Buffer_National_Parks', 'Buffer_Properties_Intersect_National_Parks', 'Crime_Buffer_Shopping_Centers', 'Buffer_Properties_Intersect_Shopping_Centers', 'Crime_Buffer_Sidewalk_Cafe', 'Buffer_Properties_Intersect_Sidewalk_Cafe', 'Crime_Buffer_DC_Public_Schools', 'Buffer_Properties_Intersect_DC_Public_Schools']\n"
     ]
    }
   ],
   "source": [
    "fc_list = arcpy.ListFeatureClasses()\n",
    "print(fc_list)"
   ]
  },
  {
   "cell_type": "markdown",
   "metadata": {},
   "source": [
    "### 1. Interactive Analysis to Visualize Crime Hot spots(KDE)"
   ]
  },
  {
   "cell_type": "markdown",
   "metadata": {
    "heading_collapsed": true
   },
   "source": [
    "#### Step 1. Basic Check: descrie, field, row counts, samples"
   ]
  },
  {
   "cell_type": "code",
   "execution_count": 79,
   "metadata": {
    "hidden": true
   },
   "outputs": [
    {
     "data": {
      "text/html": [
       "<style>table td#td0  {font-weight: bold}</style><table class=\"notebook\"><colgroup><col style=\"width:45%\"></col><col style=\"width:55%\"></col></colgroup><tr><td id = \"td0\" title=\"catalogPath\">catalogPath</td><td title=\".\\MyProject.gdb\\Crime_Incidents_19_23_Merged_CSV\">.\\MyProject.gdb\\Crime_Incidents_19_23_Merged_CSV</td></tr><tr><td id = \"td0\" title=\"dataType\">dataType</td><td title=\"FeatureClass\">FeatureClass</td></tr><tr><td id = \"td0\" title=\"shapeType\">shapeType</td><td title=\"Point\">Point</td></tr><tr><td id = \"td0\" title=\"hasM\">hasM</td><td title=\"False\">False</td></tr><tr><td id = \"td0\" title=\"hasZ\">hasZ</td><td title=\"False\">False</td></tr></table><div class=\"title\"><i class=\"chevron-open\" onClick=\"event.preventDefault();document.getElementById('E9BEB815-81B8-4A6F-AF47-A234CD47B49E').style.display =   document.getElementById('E9BEB815-81B8-4A6F-AF47-A234CD47B49E').style.display == 'none' ? 'block' : 'none';this.classList.toggle('chevron-closed');\"></i>fields</div><div id=\"E9BEB815-81B8-4A6F-AF47-A234CD47B49E\"><style>table td#td0  {font-weight: bold}</style><table class=\"notebook\"><colgroup><col style=\"width:45%\"></col><col style=\"width:55%\"></col></colgroup><tr><td id = \"td0\" title=\"OBJECTID_1\">OBJECTID_1</td><td title=\"OID\">OID</td></tr><tr><td id = \"td0\" title=\"Shape\">Shape</td><td title=\"Geometry\">Geometry</td></tr><tr><td id = \"td0\" title=\"Field1\">Field1</td><td title=\"Integer\">Integer</td></tr><tr><td id = \"td0\" title=\"X\">X</td><td title=\"Double\">Double</td></tr><tr><td id = \"td0\" title=\"Y\">Y</td><td title=\"Double\">Double</td></tr><tr><td id = \"td0\" title=\"CCN\">CCN</td><td title=\"Integer\">Integer</td></tr><tr><td id = \"td0\" title=\"REPORT_DAT\">REPORT_DAT</td><td title=\"String\">String</td></tr><tr><td id = \"td0\" title=\"SHIFT\">SHIFT</td><td title=\"String\">String</td></tr><tr><td id = \"td0\" title=\"METHOD\">METHOD</td><td title=\"String\">String</td></tr><tr><td id = \"td0\" title=\"OFFENSE\">OFFENSE</td><td title=\"String\">String</td></tr><tr><td id = \"td0\" title=\"BLOCK\">BLOCK</td><td title=\"String\">String</td></tr><tr><td id = \"td0\" title=\"XBLOCK\">XBLOCK</td><td title=\"Double\">Double</td></tr><tr><td id = \"td0\" title=\"YBLOCK\">YBLOCK</td><td title=\"Double\">Double</td></tr><tr><td id = \"td0\" title=\"WARD\">WARD</td><td title=\"Double\">Double</td></tr><tr><td id = \"td0\" title=\"ANC\">ANC</td><td title=\"String\">String</td></tr><tr><td id = \"td0\" title=\"DISTRICT\">DISTRICT</td><td title=\"Double\">Double</td></tr><tr><td id = \"td0\" title=\"PSA\">PSA</td><td title=\"Double\">Double</td></tr><tr><td id = \"td0\" title=\"NEIGHBORHOOD_CLUSTER\">NEIGHBORHOOD_CLUSTER</td><td title=\"String\">String</td></tr><tr><td id = \"td0\" title=\"BLOCK_GROUP\">BLOCK_GROUP</td><td title=\"String\">String</td></tr><tr><td id = \"td0\" title=\"CENSUS_TRACT\">CENSUS_TRACT</td><td title=\"Double\">Double</td></tr><tr><td id = \"td0\" title=\"VOTING_PRECINCT\">VOTING_PRECINCT</td><td title=\"String\">String</td></tr><tr><td id = \"td0\" title=\"LATITUDE\">LATITUDE</td><td title=\"Double\">Double</td></tr><tr><td id = \"td0\" title=\"LONGITUDE\">LONGITUDE</td><td title=\"Double\">Double</td></tr><tr><td id = \"td0\" title=\"BID\">BID</td><td title=\"String\">String</td></tr><tr><td id = \"td0\" title=\"START_DATE\">START_DATE</td><td title=\"String\">String</td></tr><tr><td id = \"td0\" title=\"END_DATE\">END_DATE</td><td title=\"String\">String</td></tr><tr><td id = \"td0\" title=\"OBJECTID\">OBJECTID</td><td title=\"Integer\">Integer</td></tr><tr><td id = \"td0\" title=\"OCTO_RECORD_ID\">OCTO_RECORD_ID</td><td title=\"String\">String</td></tr><tr><td id = \"td0\" title=\"Year\">Year</td><td title=\"Integer\">Integer</td></tr><tr><td id = \"td0\" title=\"Crime_Type\">Crime_Type</td><td title=\"String\">String</td></tr><tr><td id = \"td0\" title=\"Clear_Time\">Clear_Time</td><td title=\"Double\">Double</td></tr><tr><td id = \"td0\" title=\"Pandemic_Phase\">Pandemic_Phase</td><td title=\"String\">String</td></tr><tr><td id = \"td0\" title=\"Season\">Season</td><td title=\"String\">String</td></tr><tr><td id = \"td0\" title=\"Date_Phase\">Date_Phase</td><td title=\"String\">String</td></tr><tr><td id = \"td0\" title=\"Time_Hour\">Time_Hour</td><td title=\"Double\">Double</td></tr></table></div><div class=\"title\"><i class=\"chevron-open\" onClick=\"event.preventDefault();document.getElementById('F3EA3D6A-8F9A-4AF8-85A0-AA9E8EE93D36').style.display =   document.getElementById('F3EA3D6A-8F9A-4AF8-85A0-AA9E8EE93D36').style.display == 'none' ? 'block' : 'none';this.classList.toggle('chevron-closed');\"></i>spatialReference</div><div id=\"F3EA3D6A-8F9A-4AF8-85A0-AA9E8EE93D36\"><style>table td#td0  {font-weight: bold}</style><table class=\"notebook\"><colgroup><col style=\"width:45%\"></col><col style=\"width:55%\"></col></colgroup><tr><td id = \"td0\" title=\"name (Geographic Coordinate System)\">name (Geographic Coordinate System)</td><td title=\"GCS_WGS_1984\">GCS_WGS_1984</td></tr><tr><td id = \"td0\" title=\"factoryCode (WKID)\">factoryCode (WKID)</td><td title=\"4326\">4326</td></tr><tr><td id = \"td0\" title=\"angularUnitName (Angular Unit)\">angularUnitName (Angular Unit)</td><td title=\"Degree\">Degree</td></tr><tr><td id = \"td0\" title=\"datumName (Datum)\">datumName (Datum)</td><td title=\"D_WGS_1984\">D_WGS_1984</td></tr></table></div><p class=\"gpresult\">For additional help,     see <a href=\"#\" onclick=\"chrome.webview.postMessage('describe_helpid_120003794');return false;\">arcpy.Describe</a></p><br>"
      ],
      "text/plain": [
       "<geoprocessing describe data object at 0x1aab2ee8710>"
      ]
     },
     "execution_count": 79,
     "metadata": {},
     "output_type": "execute_result"
    }
   ],
   "source": [
    "desc = arcpy.Describe(\"Crime_Incidents_19_23_Merged_CSV\")\n",
    "desc"
   ]
  },
  {
   "cell_type": "code",
   "execution_count": 80,
   "metadata": {
    "hidden": true
   },
   "outputs": [
    {
     "name": "stdout",
     "output_type": "stream",
     "text": [
      "OBJECTID_1 : OID\n",
      "Shape : Geometry\n",
      "Field1 : Integer\n",
      "X : Double\n",
      "Y : Double\n",
      "CCN : Integer\n",
      "REPORT_DAT : String\n",
      "SHIFT : String\n",
      "METHOD : String\n",
      "OFFENSE : String\n",
      "BLOCK : String\n",
      "XBLOCK : Double\n",
      "YBLOCK : Double\n",
      "WARD : Double\n",
      "ANC : String\n",
      "DISTRICT : Double\n",
      "PSA : Double\n",
      "NEIGHBORHOOD_CLUSTER : String\n",
      "BLOCK_GROUP : String\n",
      "CENSUS_TRACT : Double\n",
      "VOTING_PRECINCT : String\n",
      "LATITUDE : Double\n",
      "LONGITUDE : Double\n",
      "BID : String\n",
      "START_DATE : String\n",
      "END_DATE : String\n",
      "OBJECTID : Integer\n",
      "OCTO_RECORD_ID : String\n",
      "Year : Integer\n",
      "Crime_Type : String\n",
      "Clear_Time : Double\n",
      "Pandemic_Phase : String\n",
      "Season : String\n",
      "Date_Phase : String\n",
      "Time_Hour : Double\n"
     ]
    }
   ],
   "source": [
    "for fld in desc.fields:\n",
    "    #    print(\"\\t\" + fld.name)\n",
    "    print(f\"{fld.name} : {fld.Type}\")\n",
    "\n",
    "# field_list = arcpy.ListFields(\"Crime_Incidents_in_2023_shp\")\n",
    "# field_list"
   ]
  },
  {
   "cell_type": "code",
   "execution_count": 81,
   "metadata": {
    "hidden": true
   },
   "outputs": [
    {
     "name": "stdout",
     "output_type": "stream",
     "text": [
      "Name: Crime incidents(5years), feature count: 143384\n"
     ]
    }
   ],
   "source": [
    "# Numer of record: GetCount\n",
    "count = arcpy.GetCount_management('Crime_Incidents_19_23_Merged_CSV')\n",
    "print(f\"Name: Crime incidents(5years), feature count: {count}\")"
   ]
  },
  {
   "cell_type": "markdown",
   "metadata": {
    "hidden": true
   },
   "source": [
    "Time stamp variales are truncated. So, they will be manually added after converting into Clearance_time"
   ]
  },
  {
   "cell_type": "code",
   "execution_count": 82,
   "metadata": {
    "hidden": true
   },
   "outputs": [
    {
     "name": "stdout",
     "output_type": "stream",
     "text": [
      "START: 2019-05-16 23:15:24+00:00\n",
      "END: 2019-05-16 23:18:13+00:00\n",
      "START: 2019-05-18 10:31:59+00:00\n",
      "END: 2019-05-18 11:04:48+00:00\n",
      "START: 2019-05-18 18:30:47+00:00\n",
      "END: 2019-05-18 18:35:33+00:00\n",
      "START: 2019-04-02 23:20:46+00:00\n",
      "END: None\n",
      "START: 2019-04-04 05:00:17+00:00\n",
      "END: 2019-04-04 05:50:06+00:00\n",
      "Reached 5 iterations. Do something else here.\n"
     ]
    }
   ],
   "source": [
    "# Check the sample\n",
    "from arcpy.da import *\n",
    "with arcpy.da.SearchCursor(\"Crime_Incidents_19_23_Merged_CSV\", (\"START_DATE\", \"END_DATE\")) as cursor:\n",
    "    i = 0\n",
    "    for val in cursor:\n",
    "        if i < 5:\n",
    "            print(f'START: {val[0]}')\n",
    "            print(f'END: {val[1]}')\n",
    "            i += 1\n",
    "        else:\n",
    "            # Add your desired action here when i reaches 5 or more\n",
    "            print(\"Reached 5 iterations. Do something else here.\")\n",
    "            break "
   ]
  },
  {
   "cell_type": "markdown",
   "metadata": {},
   "source": [
    "#### Step 2. Create KDE feature \n",
    "\n",
    "- Interactive KDE Plot on ArcGIS by input value as parameter To EXPLORE pattern of Crime  \n",
    "- Two Input Parameters: Pandemic Phase, Crime Type\n"
   ]
  },
  {
   "cell_type": "markdown",
   "metadata": {},
   "source": [
    "#### A. Crime Type\n",
    "  - 9 types in the original data were grouped as Four types : \n",
    "    1. Theft    \n",
    "    2. Other_Property_Crimes (ARSON, BURGLARY, MOTOR VEHICLE THEFT)\n",
    "    3. Robbery  \n",
    "    4. Other_Violent_Crimes (ASSAULT, HOMICIDE, SEX ABUSE)"
   ]
  },
  {
   "cell_type": "markdown",
   "metadata": {},
   "source": [
    "#### B. Period Phases (Pandemic_Phase)\n",
    "  - 5 years ('19~'23y) were grouped as Three phases : \n",
    "    1. Before: ‘19.1~’20.2(14M)  \n",
    "    2. Lockdown: ‘20.3.~ ‘21.7(17M) \n",
    "    3. Post: ‘21.8~’23.12(29M)"
   ]
  },
  {
   "cell_type": "code",
   "execution_count": 7,
   "metadata": {},
   "outputs": [
    {
     "data": {
      "text/plain": [
       "'CheckedOut'"
      ]
     },
     "execution_count": 7,
     "metadata": {},
     "output_type": "execute_result"
    }
   ],
   "source": [
    "from arcpy.sa import *\n",
    "arcpy.CheckOutExtension(\"Spatial\")"
   ]
  },
  {
   "cell_type": "code",
   "execution_count": 16,
   "metadata": {},
   "outputs": [
    {
     "name": "stdout",
     "output_type": "stream",
     "text": [
      "Choose Crime Type:\n",
      "1: Theft\n",
      "2: Other_Property_Crimes\n",
      "3: Robbery\n",
      "4: Other_Violent_Crimes\n",
      "Enter the number of your choice: 1\n",
      "Selected Crime Type: Theft\n",
      "\n",
      "Choose Pandemic Phase Type:\n",
      "1: Before\n",
      "2: Lockdown\n",
      "3: Post\n",
      "Enter the number of your choice: 3\n",
      "Selected Pandemic Phase: Post\n",
      "KDE layer created: KDE_Theft_Post\n"
     ]
    },
    {
     "data": {
      "text/html": [
       "<div class='gpresult'><h2>Messages</h2><div id='messages' data-messages='[\"Start Time: Sunday, December 17, 2023 1:52:48 PM\",\"Succeeded at Sunday, December 17, 2023 1:52:48 PM (Elapsed Time: 0.10 seconds)\"]' data-show='true'><div id = 'default' /></div></div>"
      ],
      "text/plain": [
       "<Result 'Crime_Incidents_19_23_Theft_Post'>"
      ]
     },
     "execution_count": 16,
     "metadata": {},
     "output_type": "execute_result"
    }
   ],
   "source": [
    "# Function to display options and get user input\n",
    "def get_user_input(options, prompt):\n",
    "    for key, value in options.items():\n",
    "        print(f\"{key}: {value}\")\n",
    "    return options[int(input(prompt))]\n",
    "\n",
    "# Crime type options\n",
    "crime_type_list = {1: 'Theft', 2: 'Other_Property_Crimes', 3: 'Robbery', 4: 'Other_Violent_Crimes'}\n",
    "print(\"Choose Crime Type:\")\n",
    "crime_type = get_user_input(crime_type_list, \"Enter the number of your choice: \")\n",
    "print(f\"Selected Crime Type: {crime_type}\")\n",
    "\n",
    "# Pandemic phase options\n",
    "phase_type_list = {1: 'Before', 2: 'Lockdown', 3: 'Post'}\n",
    "print(\"\\nChoose Pandemic Phase Type:\")\n",
    "phase_type = get_user_input(phase_type_list, \"Enter the number of your choice: \")\n",
    "print(f\"Selected Pandemic Phase: {phase_type}\")\n",
    "\n",
    "# Create a combined feature layer\n",
    "out_layers = \"Crime_Incidents_19_23_\" + crime_type + \"_\" + phase_type\n",
    "arcpy.MakeFeatureLayer_management(in_features=\"Crime_Incidents_19_23_Merged_CSV\", out_layer=out_layers)\n",
    "\n",
    "# Create SQL expression for combined filter\n",
    "crime_field = arcpy.AddFieldDelimiters(arcpy.env.workspace, \"Crime_Type\")\n",
    "phase_field = arcpy.AddFieldDelimiters(arcpy.env.workspace, \"Pandemic_Phase\")\n",
    "SQLExp = f\"{crime_field} = '{crime_type}' AND {phase_field} = '{phase_type}'\"\n",
    "\n",
    "# Apply combined filter and create KDE\n",
    "try:\n",
    "    arcpy.SelectLayerByAttribute_management(in_layer_or_view=out_layers,\n",
    "                                            selection_type=\"NEW_SELECTION\",\n",
    "                                            where_clause=SQLExp)\n",
    "\n",
    "    with arcpy.EnvManager(extent=arcpy.Extent(-77.112318, 38.814667, -76.910140, 38.993573)):\n",
    "        KDE_layer_name = f\"KDE_{crime_type}_{phase_type}\"\n",
    "#         original_kernel_density = KernelDensity(in_features=out_layers,\n",
    "#                                                   population_field=\"\",\n",
    "#                                                   cell_size=0.005,\n",
    "#                                                   search_radius=0.01)\n",
    "        # (Final) Avg # of incidents per a Month\n",
    "        # 'Before':14M 'Lockdown': 17M 'Post': 29M\n",
    "        if phase_type == 'Before': \n",
    "            globals()[KDE_layer_name]  = KernelDensity(in_features=out_layers,\n",
    "                                                   population_field=\"\",\n",
    "                                                   cell_size=0.005,\n",
    "                                                   search_radius=0.01) / 12\n",
    "        elif phase_type == 'Lockdown': \n",
    "            globals()[KDE_layer_name]  = KernelDensity(in_features=out_layers,\n",
    "                                                   population_field=\"\",\n",
    "                                                   cell_size=0.005,\n",
    "                                                   search_radius=0.01) / 17\n",
    "        elif phase_type == 'Post': \n",
    "            globals()[KDE_layer_name]  = KernelDensity(in_features=out_layers,\n",
    "                                                   population_field=\"\",\n",
    "                                                   cell_size=0.005,\n",
    "                                                   search_radius=0.01) / 29\n",
    "            \n",
    "        print(f\"KDE layer created: {KDE_layer_name}\")\n",
    "\n",
    "except arcpy.ExecuteError:\n",
    "    print(arcpy.GetMessages())\n",
    "\n",
    "# Clear selection\n",
    "arcpy.management.SelectLayerByAttribute(out_layers, 'CLEAR_SELECTION')"
   ]
  },
  {
   "cell_type": "markdown",
   "metadata": {},
   "source": [
    "### 2. Explore Proximity feature\n",
    " \n",
    "  - Explore Number of Property near each crime spots (use Buffer analysis within 300 ft)\n",
    "  - Analysis by Crime types Whether which properties are relatively higher probability of existence in a certain crime type "
   ]
  },
  {
   "cell_type": "code",
   "execution_count": 3,
   "metadata": {},
   "outputs": [
    {
     "data": {
      "text/html": [
       "<div class='gpresult'><h2>Messages</h2><div id='messages' data-messages='[\"Start Time: Saturday, December 16, 2023 3:09:04 PM\",\"Succeeded at Saturday, December 16, 2023 3:09:04 PM (Elapsed Time: 0.16 seconds)\"]' data-show='true'><div id = 'default' /></div></div>"
      ],
      "text/plain": [
       "<Result 'Crime_Incidents_19_23_buffer'>"
      ]
     },
     "execution_count": 3,
     "metadata": {},
     "output_type": "execute_result"
    }
   ],
   "source": [
    "out_layers = \"Crime_Incidents_19_23_buffer\"\n",
    "arcpy.MakeFeatureLayer_management(in_features=\"Crime_Incidents_19_23_Merged_CSV\"\n",
    "                                  , out_layer=out_layers)"
   ]
  },
  {
   "cell_type": "code",
   "execution_count": 4,
   "metadata": {},
   "outputs": [
    {
     "name": "stdout",
     "output_type": "stream",
     "text": [
      "Basic infomation of Proximity Analysis:\n",
      " 1. # of Properties to check: 12 \n",
      " 2. Distance(buffer area): 300 Feet\n",
      "None\n"
     ]
    }
   ],
   "source": [
    "import pandas as pd\n",
    "properties_list = ['Bank_Locations','Farmers_Market_Locations','Gas_Stations','Grocery_Store_Locations','Hospitals','Hotels','Liquor_Licenses','Metro_Station_Entrances_in_DC','National_Parks','Shopping_Centers','Sidewalk_Cafe','DC_Public_Schools']\n",
    "buffer_distance = \"300 Feet\"  #100m\n",
    "print(f'Basic infomation of Proximity Analysis:\\n 1. # of Properties to check: {len(properties_list)} \\n 2. Distance(buffer area): {buffer_distance}')\n",
    "\n",
    "# Initialize the result dataframe\n",
    "result_df = None\n",
    "print(result_df)"
   ]
  },
  {
   "cell_type": "markdown",
   "metadata": {},
   "source": [
    "#### Below code to make Feature class and Table was commented out \n",
    "    \n",
    "     - All features were already added to the final GDB (MyProject.gdb)"
   ]
  },
  {
   "cell_type": "code",
   "execution_count": 5,
   "metadata": {},
   "outputs": [
    {
     "name": "stdout",
     "output_type": "stream",
     "text": [
      "              Crime_Type  Bank_Locations  Farmers_Market_Locations  \\\n",
      "0                Robbery             633                       111   \n",
      "1  Other_Property_Crimes            1325                       217   \n",
      "2                  Theft           11216                      1594   \n",
      "3   Other_Violent_Crimes             444                        68   \n",
      "\n",
      "   Gas_Stations  Grocery_Store_Locations  Hospitals  Hotels  Liquor_Licenses  \\\n",
      "0           403                      233          9     267             7258   \n",
      "1           576                      507         13     703            14963   \n",
      "2          3216                     5624        101    5653           102478   \n",
      "3           315                      166          9     191             4490   \n",
      "\n",
      "   Metro_Station_Entrances_in_DC  National_Parks  Shopping_Centers  \\\n",
      "0                             90            4664                86   \n",
      "1                             76            9083               201   \n",
      "2                           1739           63287              2375   \n",
      "3                             57            3752                77   \n",
      "\n",
      "   Sidewalk_Cafe  DC_Public_Schools  \n",
      "0           1016                211  \n",
      "1           3072                226  \n",
      "2          20483               1733  \n",
      "3            755                130  \n"
     ]
    }
   ],
   "source": [
    "# # Iterate over each property\n",
    "# for property_fc in properties_list:\n",
    "#     # Create a buffer around each crime incident\n",
    "#     crime_buffer_fc = \"Crime_Buffer_\" + property_fc\n",
    "#     arcpy.Buffer_analysis(\"Crime_Incidents_19_23_buffer\", crime_buffer_fc, buffer_distance)\n",
    "\n",
    "#     # Intersect the buffer with the properties to find properties within the buffer\n",
    "#     buffer_properties_intersect = \"Buffer_Properties_Intersect_\"+ property_fc\n",
    "#     arcpy.Intersect_analysis([crime_buffer_fc, property_fc], buffer_properties_intersect)\n",
    "\n",
    "#     # Use a SearchCursor to iterate through the buffer polygons and count the number of intersecting properties\n",
    "#     # Initialize a dictionary to hold the count of properties for each crime type\n",
    "#     crime_property_count = {}\n",
    "\n",
    "#     # Assuming 'Crime_Type' is the crime type and 'OBJECTID' is the unique identifier for the properties\n",
    "#     with arcpy.da.SearchCursor(buffer_properties_intersect, ['Crime_Type', 'OBJECTID']) as cursor:\n",
    "#         for row in cursor:\n",
    "#             # Count the number of properties for each crime type\n",
    "#             crime_type = row[0]\n",
    "#             crime_property_count[crime_type] = crime_property_count.get(crime_type, 0) + 1\n",
    "\n",
    "#     # Now you can use 'crime_property_count' dictionary where keys are crime types and values are the count of properties\n",
    "#     # Convert the dictionary to a dataframe\n",
    "#     property_df = pd.DataFrame.from_dict(crime_property_count, orient='index', columns=[property_fc])\n",
    "#     property_df.reset_index(inplace=True)\n",
    "#     property_df.rename(columns={'index': 'Crime_Type'}, inplace=True)\n",
    "\n",
    "#     # Merge the result to the main dataframe\n",
    "#     if result_df is None:\n",
    "#         result_df = property_df\n",
    "#     else:\n",
    "#         result_df = pd.merge(result_df, property_df, on='Crime_Type', how='outer')\n",
    "\n",
    "# # Fill NaN values with 0 (representing no property)\n",
    "# result_df.fillna(0, inplace=True)\n",
    "\n",
    "# print(result_df)"
   ]
  },
  {
   "cell_type": "code",
   "execution_count": 7,
   "metadata": {},
   "outputs": [],
   "source": [
    "# import copy\n",
    "# temp = copy.deepcopy(result_df)\n",
    "# temp2 = temp.T\n",
    "#temp2.to_csv('Proximity_feature_result.csv')"
   ]
  }
 ],
 "metadata": {
  "kernelspec": {
   "display_name": "ArcGISPro",
   "language": "Python",
   "name": "python3"
  },
  "language_info": {
   "file_extension": ".py",
   "name": "python",
   "version": "3"
  },
  "vscode": {
   "interpreter": {
    "hash": "5ef83ab4e3b1c610d58930f78968af47eb34a17cf26a42b6ce1eb23372798d71"
   }
  }
 },
 "nbformat": 4,
 "nbformat_minor": 4
}
